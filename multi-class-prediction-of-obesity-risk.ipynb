{
 "cells": [
  {
   "cell_type": "code",
   "execution_count": 1,
   "id": "b12cc837",
   "metadata": {
    "_cell_guid": "b1076dfc-b9ad-4769-8c92-a6c4dae69d19",
    "_uuid": "8f2839f25d086af736a60e9eeb907d3b93b6e0e5",
    "execution": {
     "iopub.execute_input": "2024-03-01T17:10:10.886714Z",
     "iopub.status.busy": "2024-03-01T17:10:10.886427Z",
     "iopub.status.idle": "2024-03-01T17:10:14.192725Z",
     "shell.execute_reply": "2024-03-01T17:10:14.191879Z"
    },
    "papermill": {
     "duration": 3.319195,
     "end_time": "2024-03-01T17:10:14.194818",
     "exception": false,
     "start_time": "2024-03-01T17:10:10.875623",
     "status": "completed"
    },
    "tags": []
   },
   "outputs": [
    {
     "name": "stdout",
     "output_type": "stream",
     "text": [
      "/kaggle/input/playground-series-s4e2/sample_submission.csv\n",
      "/kaggle/input/playground-series-s4e2/train.csv\n",
      "/kaggle/input/playground-series-s4e2/test.csv\n"
     ]
    }
   ],
   "source": [
    "import numpy as np # linear algebra\n",
    "import pandas as pd # data processing, CSV file I/O (e.g. pd.read_csv)\n",
    "import seaborn as sns\n",
    "import matplotlib.pyplot as plt\n",
    "from scipy.stats import chi2_contingency\n",
    "from sklearn.preprocessing import LabelEncoder,OneHotEncoder, StandardScaler\n",
    "from sklearn.feature_selection import SelectKBest, chi2, mutual_info_classif\n",
    "from sklearn.ensemble import ExtraTreesClassifier, GradientBoostingClassifier\n",
    "from sklearn.model_selection import train_test_split, GridSearchCV, cross_val_score\n",
    "from sklearn.ensemble import RandomForestClassifier\n",
    "from sklearn.tree import DecisionTreeClassifier\n",
    "from lightgbm import LGBMClassifier\n",
    "from sklearn.ensemble import GradientBoostingClassifier, AdaBoostClassifier\n",
    "from sklearn.svm import SVC\n",
    "from sklearn.linear_model import LinearRegression, LogisticRegression\n",
    "from yellowbrick.classifier import ConfusionMatrix\n",
    "from sklearn.metrics import accuracy_score,precision_score,recall_score,f1_score,ConfusionMatrixDisplay,classification_report\n",
    "import os\n",
    "for dirname, _, filenames in os.walk('/kaggle/input'):\n",
    "    for filename in filenames:\n",
    "        print(os.path.join(dirname, filename))\n"
   ]
  },
  {
   "cell_type": "code",
   "execution_count": 2,
   "id": "914e579e",
   "metadata": {
    "execution": {
     "iopub.execute_input": "2024-03-01T17:10:14.215269Z",
     "iopub.status.busy": "2024-03-01T17:10:14.214808Z",
     "iopub.status.idle": "2024-03-01T17:10:14.334576Z",
     "shell.execute_reply": "2024-03-01T17:10:14.333756Z"
    },
    "papermill": {
     "duration": 0.132619,
     "end_time": "2024-03-01T17:10:14.336736",
     "exception": false,
     "start_time": "2024-03-01T17:10:14.204117",
     "status": "completed"
    },
    "tags": []
   },
   "outputs": [],
   "source": [
    "df_train = pd.read_csv(\"/kaggle/input/playground-series-s4e2/train.csv\")\n",
    "df_test = pd.read_csv(\"/kaggle/input/playground-series-s4e2/test.csv\")"
   ]
  },
  {
   "cell_type": "code",
   "execution_count": 3,
   "id": "b6aaa3dd",
   "metadata": {
    "execution": {
     "iopub.execute_input": "2024-03-01T17:10:14.356539Z",
     "iopub.status.busy": "2024-03-01T17:10:14.356251Z",
     "iopub.status.idle": "2024-03-01T17:10:14.376200Z",
     "shell.execute_reply": "2024-03-01T17:10:14.375084Z"
    },
    "papermill": {
     "duration": 0.031843,
     "end_time": "2024-03-01T17:10:14.377971",
     "exception": false,
     "start_time": "2024-03-01T17:10:14.346128",
     "status": "completed"
    },
    "tags": []
   },
   "outputs": [
    {
     "data": {
      "text/html": [
       "<div>\n",
       "<style scoped>\n",
       "    .dataframe tbody tr th:only-of-type {\n",
       "        vertical-align: middle;\n",
       "    }\n",
       "\n",
       "    .dataframe tbody tr th {\n",
       "        vertical-align: top;\n",
       "    }\n",
       "\n",
       "    .dataframe thead th {\n",
       "        text-align: right;\n",
       "    }\n",
       "</style>\n",
       "<table border=\"1\" class=\"dataframe\">\n",
       "  <thead>\n",
       "    <tr style=\"text-align: right;\">\n",
       "      <th></th>\n",
       "      <th>id</th>\n",
       "      <th>Gender</th>\n",
       "      <th>Age</th>\n",
       "      <th>Height</th>\n",
       "      <th>Weight</th>\n",
       "      <th>family_history_with_overweight</th>\n",
       "      <th>FAVC</th>\n",
       "      <th>FCVC</th>\n",
       "      <th>NCP</th>\n",
       "      <th>CAEC</th>\n",
       "      <th>SMOKE</th>\n",
       "      <th>CH2O</th>\n",
       "      <th>SCC</th>\n",
       "      <th>FAF</th>\n",
       "      <th>TUE</th>\n",
       "      <th>CALC</th>\n",
       "      <th>MTRANS</th>\n",
       "      <th>NObeyesdad</th>\n",
       "    </tr>\n",
       "  </thead>\n",
       "  <tbody>\n",
       "    <tr>\n",
       "      <th>0</th>\n",
       "      <td>0</td>\n",
       "      <td>Male</td>\n",
       "      <td>24.443011</td>\n",
       "      <td>1.699998</td>\n",
       "      <td>81.669950</td>\n",
       "      <td>yes</td>\n",
       "      <td>yes</td>\n",
       "      <td>2.000000</td>\n",
       "      <td>2.983297</td>\n",
       "      <td>Sometimes</td>\n",
       "      <td>no</td>\n",
       "      <td>2.763573</td>\n",
       "      <td>no</td>\n",
       "      <td>0.000000</td>\n",
       "      <td>0.976473</td>\n",
       "      <td>Sometimes</td>\n",
       "      <td>Public_Transportation</td>\n",
       "      <td>Overweight_Level_II</td>\n",
       "    </tr>\n",
       "    <tr>\n",
       "      <th>1</th>\n",
       "      <td>1</td>\n",
       "      <td>Female</td>\n",
       "      <td>18.000000</td>\n",
       "      <td>1.560000</td>\n",
       "      <td>57.000000</td>\n",
       "      <td>yes</td>\n",
       "      <td>yes</td>\n",
       "      <td>2.000000</td>\n",
       "      <td>3.000000</td>\n",
       "      <td>Frequently</td>\n",
       "      <td>no</td>\n",
       "      <td>2.000000</td>\n",
       "      <td>no</td>\n",
       "      <td>1.000000</td>\n",
       "      <td>1.000000</td>\n",
       "      <td>no</td>\n",
       "      <td>Automobile</td>\n",
       "      <td>Normal_Weight</td>\n",
       "    </tr>\n",
       "    <tr>\n",
       "      <th>2</th>\n",
       "      <td>2</td>\n",
       "      <td>Female</td>\n",
       "      <td>18.000000</td>\n",
       "      <td>1.711460</td>\n",
       "      <td>50.165754</td>\n",
       "      <td>yes</td>\n",
       "      <td>yes</td>\n",
       "      <td>1.880534</td>\n",
       "      <td>1.411685</td>\n",
       "      <td>Sometimes</td>\n",
       "      <td>no</td>\n",
       "      <td>1.910378</td>\n",
       "      <td>no</td>\n",
       "      <td>0.866045</td>\n",
       "      <td>1.673584</td>\n",
       "      <td>no</td>\n",
       "      <td>Public_Transportation</td>\n",
       "      <td>Insufficient_Weight</td>\n",
       "    </tr>\n",
       "    <tr>\n",
       "      <th>3</th>\n",
       "      <td>3</td>\n",
       "      <td>Female</td>\n",
       "      <td>20.952737</td>\n",
       "      <td>1.710730</td>\n",
       "      <td>131.274851</td>\n",
       "      <td>yes</td>\n",
       "      <td>yes</td>\n",
       "      <td>3.000000</td>\n",
       "      <td>3.000000</td>\n",
       "      <td>Sometimes</td>\n",
       "      <td>no</td>\n",
       "      <td>1.674061</td>\n",
       "      <td>no</td>\n",
       "      <td>1.467863</td>\n",
       "      <td>0.780199</td>\n",
       "      <td>Sometimes</td>\n",
       "      <td>Public_Transportation</td>\n",
       "      <td>Obesity_Type_III</td>\n",
       "    </tr>\n",
       "    <tr>\n",
       "      <th>4</th>\n",
       "      <td>4</td>\n",
       "      <td>Male</td>\n",
       "      <td>31.641081</td>\n",
       "      <td>1.914186</td>\n",
       "      <td>93.798055</td>\n",
       "      <td>yes</td>\n",
       "      <td>yes</td>\n",
       "      <td>2.679664</td>\n",
       "      <td>1.971472</td>\n",
       "      <td>Sometimes</td>\n",
       "      <td>no</td>\n",
       "      <td>1.979848</td>\n",
       "      <td>no</td>\n",
       "      <td>1.967973</td>\n",
       "      <td>0.931721</td>\n",
       "      <td>Sometimes</td>\n",
       "      <td>Public_Transportation</td>\n",
       "      <td>Overweight_Level_II</td>\n",
       "    </tr>\n",
       "  </tbody>\n",
       "</table>\n",
       "</div>"
      ],
      "text/plain": [
       "   id  Gender        Age    Height      Weight family_history_with_overweight  \\\n",
       "0   0    Male  24.443011  1.699998   81.669950                            yes   \n",
       "1   1  Female  18.000000  1.560000   57.000000                            yes   \n",
       "2   2  Female  18.000000  1.711460   50.165754                            yes   \n",
       "3   3  Female  20.952737  1.710730  131.274851                            yes   \n",
       "4   4    Male  31.641081  1.914186   93.798055                            yes   \n",
       "\n",
       "  FAVC      FCVC       NCP        CAEC SMOKE      CH2O SCC       FAF  \\\n",
       "0  yes  2.000000  2.983297   Sometimes    no  2.763573  no  0.000000   \n",
       "1  yes  2.000000  3.000000  Frequently    no  2.000000  no  1.000000   \n",
       "2  yes  1.880534  1.411685   Sometimes    no  1.910378  no  0.866045   \n",
       "3  yes  3.000000  3.000000   Sometimes    no  1.674061  no  1.467863   \n",
       "4  yes  2.679664  1.971472   Sometimes    no  1.979848  no  1.967973   \n",
       "\n",
       "        TUE       CALC                 MTRANS           NObeyesdad  \n",
       "0  0.976473  Sometimes  Public_Transportation  Overweight_Level_II  \n",
       "1  1.000000         no             Automobile        Normal_Weight  \n",
       "2  1.673584         no  Public_Transportation  Insufficient_Weight  \n",
       "3  0.780199  Sometimes  Public_Transportation     Obesity_Type_III  \n",
       "4  0.931721  Sometimes  Public_Transportation  Overweight_Level_II  "
      ]
     },
     "execution_count": 3,
     "metadata": {},
     "output_type": "execute_result"
    }
   ],
   "source": [
    "df_train.head()"
   ]
  },
  {
   "cell_type": "code",
   "execution_count": 4,
   "id": "02d47e19",
   "metadata": {
    "execution": {
     "iopub.execute_input": "2024-03-01T17:10:14.399215Z",
     "iopub.status.busy": "2024-03-01T17:10:14.398748Z",
     "iopub.status.idle": "2024-03-01T17:10:14.414291Z",
     "shell.execute_reply": "2024-03-01T17:10:14.413338Z"
    },
    "papermill": {
     "duration": 0.02855,
     "end_time": "2024-03-01T17:10:14.416184",
     "exception": false,
     "start_time": "2024-03-01T17:10:14.387634",
     "status": "completed"
    },
    "tags": []
   },
   "outputs": [
    {
     "data": {
      "text/html": [
       "<div>\n",
       "<style scoped>\n",
       "    .dataframe tbody tr th:only-of-type {\n",
       "        vertical-align: middle;\n",
       "    }\n",
       "\n",
       "    .dataframe tbody tr th {\n",
       "        vertical-align: top;\n",
       "    }\n",
       "\n",
       "    .dataframe thead th {\n",
       "        text-align: right;\n",
       "    }\n",
       "</style>\n",
       "<table border=\"1\" class=\"dataframe\">\n",
       "  <thead>\n",
       "    <tr style=\"text-align: right;\">\n",
       "      <th></th>\n",
       "      <th>id</th>\n",
       "      <th>Gender</th>\n",
       "      <th>Age</th>\n",
       "      <th>Height</th>\n",
       "      <th>Weight</th>\n",
       "      <th>family_history_with_overweight</th>\n",
       "      <th>FAVC</th>\n",
       "      <th>FCVC</th>\n",
       "      <th>NCP</th>\n",
       "      <th>CAEC</th>\n",
       "      <th>SMOKE</th>\n",
       "      <th>CH2O</th>\n",
       "      <th>SCC</th>\n",
       "      <th>FAF</th>\n",
       "      <th>TUE</th>\n",
       "      <th>CALC</th>\n",
       "      <th>MTRANS</th>\n",
       "    </tr>\n",
       "  </thead>\n",
       "  <tbody>\n",
       "    <tr>\n",
       "      <th>0</th>\n",
       "      <td>20758</td>\n",
       "      <td>Male</td>\n",
       "      <td>26.899886</td>\n",
       "      <td>1.848294</td>\n",
       "      <td>120.644178</td>\n",
       "      <td>yes</td>\n",
       "      <td>yes</td>\n",
       "      <td>2.938616</td>\n",
       "      <td>3.000000</td>\n",
       "      <td>Sometimes</td>\n",
       "      <td>no</td>\n",
       "      <td>2.825629</td>\n",
       "      <td>no</td>\n",
       "      <td>0.855400</td>\n",
       "      <td>0.000000</td>\n",
       "      <td>Sometimes</td>\n",
       "      <td>Public_Transportation</td>\n",
       "    </tr>\n",
       "    <tr>\n",
       "      <th>1</th>\n",
       "      <td>20759</td>\n",
       "      <td>Female</td>\n",
       "      <td>21.000000</td>\n",
       "      <td>1.600000</td>\n",
       "      <td>66.000000</td>\n",
       "      <td>yes</td>\n",
       "      <td>yes</td>\n",
       "      <td>2.000000</td>\n",
       "      <td>1.000000</td>\n",
       "      <td>Sometimes</td>\n",
       "      <td>no</td>\n",
       "      <td>3.000000</td>\n",
       "      <td>no</td>\n",
       "      <td>1.000000</td>\n",
       "      <td>0.000000</td>\n",
       "      <td>Sometimes</td>\n",
       "      <td>Public_Transportation</td>\n",
       "    </tr>\n",
       "    <tr>\n",
       "      <th>2</th>\n",
       "      <td>20760</td>\n",
       "      <td>Female</td>\n",
       "      <td>26.000000</td>\n",
       "      <td>1.643355</td>\n",
       "      <td>111.600553</td>\n",
       "      <td>yes</td>\n",
       "      <td>yes</td>\n",
       "      <td>3.000000</td>\n",
       "      <td>3.000000</td>\n",
       "      <td>Sometimes</td>\n",
       "      <td>no</td>\n",
       "      <td>2.621877</td>\n",
       "      <td>no</td>\n",
       "      <td>0.000000</td>\n",
       "      <td>0.250502</td>\n",
       "      <td>Sometimes</td>\n",
       "      <td>Public_Transportation</td>\n",
       "    </tr>\n",
       "    <tr>\n",
       "      <th>3</th>\n",
       "      <td>20761</td>\n",
       "      <td>Male</td>\n",
       "      <td>20.979254</td>\n",
       "      <td>1.553127</td>\n",
       "      <td>103.669116</td>\n",
       "      <td>yes</td>\n",
       "      <td>yes</td>\n",
       "      <td>2.000000</td>\n",
       "      <td>2.977909</td>\n",
       "      <td>Sometimes</td>\n",
       "      <td>no</td>\n",
       "      <td>2.786417</td>\n",
       "      <td>no</td>\n",
       "      <td>0.094851</td>\n",
       "      <td>0.000000</td>\n",
       "      <td>Sometimes</td>\n",
       "      <td>Public_Transportation</td>\n",
       "    </tr>\n",
       "    <tr>\n",
       "      <th>4</th>\n",
       "      <td>20762</td>\n",
       "      <td>Female</td>\n",
       "      <td>26.000000</td>\n",
       "      <td>1.627396</td>\n",
       "      <td>104.835346</td>\n",
       "      <td>yes</td>\n",
       "      <td>yes</td>\n",
       "      <td>3.000000</td>\n",
       "      <td>3.000000</td>\n",
       "      <td>Sometimes</td>\n",
       "      <td>no</td>\n",
       "      <td>2.653531</td>\n",
       "      <td>no</td>\n",
       "      <td>0.000000</td>\n",
       "      <td>0.741069</td>\n",
       "      <td>Sometimes</td>\n",
       "      <td>Public_Transportation</td>\n",
       "    </tr>\n",
       "  </tbody>\n",
       "</table>\n",
       "</div>"
      ],
      "text/plain": [
       "      id  Gender        Age    Height      Weight  \\\n",
       "0  20758    Male  26.899886  1.848294  120.644178   \n",
       "1  20759  Female  21.000000  1.600000   66.000000   \n",
       "2  20760  Female  26.000000  1.643355  111.600553   \n",
       "3  20761    Male  20.979254  1.553127  103.669116   \n",
       "4  20762  Female  26.000000  1.627396  104.835346   \n",
       "\n",
       "  family_history_with_overweight FAVC      FCVC       NCP       CAEC SMOKE  \\\n",
       "0                            yes  yes  2.938616  3.000000  Sometimes    no   \n",
       "1                            yes  yes  2.000000  1.000000  Sometimes    no   \n",
       "2                            yes  yes  3.000000  3.000000  Sometimes    no   \n",
       "3                            yes  yes  2.000000  2.977909  Sometimes    no   \n",
       "4                            yes  yes  3.000000  3.000000  Sometimes    no   \n",
       "\n",
       "       CH2O SCC       FAF       TUE       CALC                 MTRANS  \n",
       "0  2.825629  no  0.855400  0.000000  Sometimes  Public_Transportation  \n",
       "1  3.000000  no  1.000000  0.000000  Sometimes  Public_Transportation  \n",
       "2  2.621877  no  0.000000  0.250502  Sometimes  Public_Transportation  \n",
       "3  2.786417  no  0.094851  0.000000  Sometimes  Public_Transportation  \n",
       "4  2.653531  no  0.000000  0.741069  Sometimes  Public_Transportation  "
      ]
     },
     "execution_count": 4,
     "metadata": {},
     "output_type": "execute_result"
    }
   ],
   "source": [
    "df_test.head()"
   ]
  },
  {
   "cell_type": "code",
   "execution_count": null,
   "id": "81aa6279",
   "metadata": {
    "papermill": {
     "duration": 0.008969,
     "end_time": "2024-03-01T17:10:14.434727",
     "exception": false,
     "start_time": "2024-03-01T17:10:14.425758",
     "status": "completed"
    },
    "tags": []
   },
   "outputs": [],
   "source": []
  },
  {
   "cell_type": "code",
   "execution_count": 5,
   "id": "71f48dac",
   "metadata": {
    "execution": {
     "iopub.execute_input": "2024-03-01T17:10:14.454724Z",
     "iopub.status.busy": "2024-03-01T17:10:14.454383Z",
     "iopub.status.idle": "2024-03-01T17:10:14.484751Z",
     "shell.execute_reply": "2024-03-01T17:10:14.483351Z"
    },
    "papermill": {
     "duration": 0.042556,
     "end_time": "2024-03-01T17:10:14.486488",
     "exception": false,
     "start_time": "2024-03-01T17:10:14.443932",
     "status": "completed"
    },
    "tags": []
   },
   "outputs": [
    {
     "name": "stdout",
     "output_type": "stream",
     "text": [
      "<class 'pandas.core.frame.DataFrame'>\n",
      "RangeIndex: 20758 entries, 0 to 20757\n",
      "Data columns (total 18 columns):\n",
      " #   Column                          Non-Null Count  Dtype  \n",
      "---  ------                          --------------  -----  \n",
      " 0   id                              20758 non-null  int64  \n",
      " 1   Gender                          20758 non-null  object \n",
      " 2   Age                             20758 non-null  float64\n",
      " 3   Height                          20758 non-null  float64\n",
      " 4   Weight                          20758 non-null  float64\n",
      " 5   family_history_with_overweight  20758 non-null  object \n",
      " 6   FAVC                            20758 non-null  object \n",
      " 7   FCVC                            20758 non-null  float64\n",
      " 8   NCP                             20758 non-null  float64\n",
      " 9   CAEC                            20758 non-null  object \n",
      " 10  SMOKE                           20758 non-null  object \n",
      " 11  CH2O                            20758 non-null  float64\n",
      " 12  SCC                             20758 non-null  object \n",
      " 13  FAF                             20758 non-null  float64\n",
      " 14  TUE                             20758 non-null  float64\n",
      " 15  CALC                            20758 non-null  object \n",
      " 16  MTRANS                          20758 non-null  object \n",
      " 17  NObeyesdad                      20758 non-null  object \n",
      "dtypes: float64(8), int64(1), object(9)\n",
      "memory usage: 2.9+ MB\n"
     ]
    }
   ],
   "source": [
    "df_train.info()"
   ]
  },
  {
   "cell_type": "code",
   "execution_count": 6,
   "id": "aabd1965",
   "metadata": {
    "execution": {
     "iopub.execute_input": "2024-03-01T17:10:14.507098Z",
     "iopub.status.busy": "2024-03-01T17:10:14.506773Z",
     "iopub.status.idle": "2024-03-01T17:10:14.520542Z",
     "shell.execute_reply": "2024-03-01T17:10:14.519282Z"
    },
    "papermill": {
     "duration": 0.026284,
     "end_time": "2024-03-01T17:10:14.522443",
     "exception": false,
     "start_time": "2024-03-01T17:10:14.496159",
     "status": "completed"
    },
    "tags": []
   },
   "outputs": [
    {
     "name": "stdout",
     "output_type": "stream",
     "text": [
      "<class 'pandas.core.frame.DataFrame'>\n",
      "RangeIndex: 13840 entries, 0 to 13839\n",
      "Data columns (total 17 columns):\n",
      " #   Column                          Non-Null Count  Dtype  \n",
      "---  ------                          --------------  -----  \n",
      " 0   id                              13840 non-null  int64  \n",
      " 1   Gender                          13840 non-null  object \n",
      " 2   Age                             13840 non-null  float64\n",
      " 3   Height                          13840 non-null  float64\n",
      " 4   Weight                          13840 non-null  float64\n",
      " 5   family_history_with_overweight  13840 non-null  object \n",
      " 6   FAVC                            13840 non-null  object \n",
      " 7   FCVC                            13840 non-null  float64\n",
      " 8   NCP                             13840 non-null  float64\n",
      " 9   CAEC                            13840 non-null  object \n",
      " 10  SMOKE                           13840 non-null  object \n",
      " 11  CH2O                            13840 non-null  float64\n",
      " 12  SCC                             13840 non-null  object \n",
      " 13  FAF                             13840 non-null  float64\n",
      " 14  TUE                             13840 non-null  float64\n",
      " 15  CALC                            13840 non-null  object \n",
      " 16  MTRANS                          13840 non-null  object \n",
      "dtypes: float64(8), int64(1), object(8)\n",
      "memory usage: 1.8+ MB\n"
     ]
    }
   ],
   "source": [
    "df_test.info()"
   ]
  },
  {
   "cell_type": "code",
   "execution_count": 7,
   "id": "a5ee63b4",
   "metadata": {
    "execution": {
     "iopub.execute_input": "2024-03-01T17:10:14.543490Z",
     "iopub.status.busy": "2024-03-01T17:10:14.542883Z",
     "iopub.status.idle": "2024-03-01T17:10:14.551187Z",
     "shell.execute_reply": "2024-03-01T17:10:14.550582Z"
    },
    "papermill": {
     "duration": 0.020604,
     "end_time": "2024-03-01T17:10:14.552809",
     "exception": false,
     "start_time": "2024-03-01T17:10:14.532205",
     "status": "completed"
    },
    "tags": []
   },
   "outputs": [],
   "source": [
    "df_train = df_train.drop('id', axis=1)"
   ]
  },
  {
   "cell_type": "code",
   "execution_count": 8,
   "id": "ba9815fd",
   "metadata": {
    "execution": {
     "iopub.execute_input": "2024-03-01T17:10:14.572863Z",
     "iopub.status.busy": "2024-03-01T17:10:14.572547Z",
     "iopub.status.idle": "2024-03-01T17:10:14.611263Z",
     "shell.execute_reply": "2024-03-01T17:10:14.610351Z"
    },
    "papermill": {
     "duration": 0.050582,
     "end_time": "2024-03-01T17:10:14.612763",
     "exception": false,
     "start_time": "2024-03-01T17:10:14.562181",
     "status": "completed"
    },
    "tags": []
   },
   "outputs": [
    {
     "data": {
      "text/html": [
       "<div>\n",
       "<style scoped>\n",
       "    .dataframe tbody tr th:only-of-type {\n",
       "        vertical-align: middle;\n",
       "    }\n",
       "\n",
       "    .dataframe tbody tr th {\n",
       "        vertical-align: top;\n",
       "    }\n",
       "\n",
       "    .dataframe thead th {\n",
       "        text-align: right;\n",
       "    }\n",
       "</style>\n",
       "<table border=\"1\" class=\"dataframe\">\n",
       "  <thead>\n",
       "    <tr style=\"text-align: right;\">\n",
       "      <th></th>\n",
       "      <th>Gender</th>\n",
       "      <th>Age</th>\n",
       "      <th>Height</th>\n",
       "      <th>Weight</th>\n",
       "      <th>family_history_with_overweight</th>\n",
       "      <th>FAVC</th>\n",
       "      <th>FCVC</th>\n",
       "      <th>NCP</th>\n",
       "      <th>CAEC</th>\n",
       "      <th>SMOKE</th>\n",
       "      <th>CH2O</th>\n",
       "      <th>SCC</th>\n",
       "      <th>FAF</th>\n",
       "      <th>TUE</th>\n",
       "      <th>CALC</th>\n",
       "      <th>MTRANS</th>\n",
       "      <th>NObeyesdad</th>\n",
       "    </tr>\n",
       "  </thead>\n",
       "  <tbody>\n",
       "    <tr>\n",
       "      <th>0</th>\n",
       "      <td>Male</td>\n",
       "      <td>24.443011</td>\n",
       "      <td>1.699998</td>\n",
       "      <td>81.669950</td>\n",
       "      <td>yes</td>\n",
       "      <td>yes</td>\n",
       "      <td>2.000000</td>\n",
       "      <td>2.983297</td>\n",
       "      <td>Sometimes</td>\n",
       "      <td>no</td>\n",
       "      <td>2.763573</td>\n",
       "      <td>no</td>\n",
       "      <td>0.000000</td>\n",
       "      <td>0.976473</td>\n",
       "      <td>Sometimes</td>\n",
       "      <td>Public_Transportation</td>\n",
       "      <td>Overweight_Level_II</td>\n",
       "    </tr>\n",
       "    <tr>\n",
       "      <th>1</th>\n",
       "      <td>Female</td>\n",
       "      <td>18.000000</td>\n",
       "      <td>1.560000</td>\n",
       "      <td>57.000000</td>\n",
       "      <td>yes</td>\n",
       "      <td>yes</td>\n",
       "      <td>2.000000</td>\n",
       "      <td>3.000000</td>\n",
       "      <td>Frequently</td>\n",
       "      <td>no</td>\n",
       "      <td>2.000000</td>\n",
       "      <td>no</td>\n",
       "      <td>1.000000</td>\n",
       "      <td>1.000000</td>\n",
       "      <td>no</td>\n",
       "      <td>Automobile</td>\n",
       "      <td>Normal_Weight</td>\n",
       "    </tr>\n",
       "    <tr>\n",
       "      <th>2</th>\n",
       "      <td>Female</td>\n",
       "      <td>18.000000</td>\n",
       "      <td>1.711460</td>\n",
       "      <td>50.165754</td>\n",
       "      <td>yes</td>\n",
       "      <td>yes</td>\n",
       "      <td>1.880534</td>\n",
       "      <td>1.411685</td>\n",
       "      <td>Sometimes</td>\n",
       "      <td>no</td>\n",
       "      <td>1.910378</td>\n",
       "      <td>no</td>\n",
       "      <td>0.866045</td>\n",
       "      <td>1.673584</td>\n",
       "      <td>no</td>\n",
       "      <td>Public_Transportation</td>\n",
       "      <td>Insufficient_Weight</td>\n",
       "    </tr>\n",
       "    <tr>\n",
       "      <th>3</th>\n",
       "      <td>Female</td>\n",
       "      <td>20.952737</td>\n",
       "      <td>1.710730</td>\n",
       "      <td>131.274851</td>\n",
       "      <td>yes</td>\n",
       "      <td>yes</td>\n",
       "      <td>3.000000</td>\n",
       "      <td>3.000000</td>\n",
       "      <td>Sometimes</td>\n",
       "      <td>no</td>\n",
       "      <td>1.674061</td>\n",
       "      <td>no</td>\n",
       "      <td>1.467863</td>\n",
       "      <td>0.780199</td>\n",
       "      <td>Sometimes</td>\n",
       "      <td>Public_Transportation</td>\n",
       "      <td>Obesity_Type_III</td>\n",
       "    </tr>\n",
       "    <tr>\n",
       "      <th>4</th>\n",
       "      <td>Male</td>\n",
       "      <td>31.641081</td>\n",
       "      <td>1.914186</td>\n",
       "      <td>93.798055</td>\n",
       "      <td>yes</td>\n",
       "      <td>yes</td>\n",
       "      <td>2.679664</td>\n",
       "      <td>1.971472</td>\n",
       "      <td>Sometimes</td>\n",
       "      <td>no</td>\n",
       "      <td>1.979848</td>\n",
       "      <td>no</td>\n",
       "      <td>1.967973</td>\n",
       "      <td>0.931721</td>\n",
       "      <td>Sometimes</td>\n",
       "      <td>Public_Transportation</td>\n",
       "      <td>Overweight_Level_II</td>\n",
       "    </tr>\n",
       "    <tr>\n",
       "      <th>...</th>\n",
       "      <td>...</td>\n",
       "      <td>...</td>\n",
       "      <td>...</td>\n",
       "      <td>...</td>\n",
       "      <td>...</td>\n",
       "      <td>...</td>\n",
       "      <td>...</td>\n",
       "      <td>...</td>\n",
       "      <td>...</td>\n",
       "      <td>...</td>\n",
       "      <td>...</td>\n",
       "      <td>...</td>\n",
       "      <td>...</td>\n",
       "      <td>...</td>\n",
       "      <td>...</td>\n",
       "      <td>...</td>\n",
       "      <td>...</td>\n",
       "    </tr>\n",
       "    <tr>\n",
       "      <th>20753</th>\n",
       "      <td>Male</td>\n",
       "      <td>25.137087</td>\n",
       "      <td>1.766626</td>\n",
       "      <td>114.187096</td>\n",
       "      <td>yes</td>\n",
       "      <td>yes</td>\n",
       "      <td>2.919584</td>\n",
       "      <td>3.000000</td>\n",
       "      <td>Sometimes</td>\n",
       "      <td>no</td>\n",
       "      <td>2.151809</td>\n",
       "      <td>no</td>\n",
       "      <td>1.330519</td>\n",
       "      <td>0.196680</td>\n",
       "      <td>Sometimes</td>\n",
       "      <td>Public_Transportation</td>\n",
       "      <td>Obesity_Type_II</td>\n",
       "    </tr>\n",
       "    <tr>\n",
       "      <th>20754</th>\n",
       "      <td>Male</td>\n",
       "      <td>18.000000</td>\n",
       "      <td>1.710000</td>\n",
       "      <td>50.000000</td>\n",
       "      <td>no</td>\n",
       "      <td>yes</td>\n",
       "      <td>3.000000</td>\n",
       "      <td>4.000000</td>\n",
       "      <td>Frequently</td>\n",
       "      <td>no</td>\n",
       "      <td>1.000000</td>\n",
       "      <td>no</td>\n",
       "      <td>2.000000</td>\n",
       "      <td>1.000000</td>\n",
       "      <td>Sometimes</td>\n",
       "      <td>Public_Transportation</td>\n",
       "      <td>Insufficient_Weight</td>\n",
       "    </tr>\n",
       "    <tr>\n",
       "      <th>20755</th>\n",
       "      <td>Male</td>\n",
       "      <td>20.101026</td>\n",
       "      <td>1.819557</td>\n",
       "      <td>105.580491</td>\n",
       "      <td>yes</td>\n",
       "      <td>yes</td>\n",
       "      <td>2.407817</td>\n",
       "      <td>3.000000</td>\n",
       "      <td>Sometimes</td>\n",
       "      <td>no</td>\n",
       "      <td>2.000000</td>\n",
       "      <td>no</td>\n",
       "      <td>1.158040</td>\n",
       "      <td>1.198439</td>\n",
       "      <td>no</td>\n",
       "      <td>Public_Transportation</td>\n",
       "      <td>Obesity_Type_II</td>\n",
       "    </tr>\n",
       "    <tr>\n",
       "      <th>20756</th>\n",
       "      <td>Male</td>\n",
       "      <td>33.852953</td>\n",
       "      <td>1.700000</td>\n",
       "      <td>83.520113</td>\n",
       "      <td>yes</td>\n",
       "      <td>yes</td>\n",
       "      <td>2.671238</td>\n",
       "      <td>1.971472</td>\n",
       "      <td>Sometimes</td>\n",
       "      <td>no</td>\n",
       "      <td>2.144838</td>\n",
       "      <td>no</td>\n",
       "      <td>0.000000</td>\n",
       "      <td>0.973834</td>\n",
       "      <td>no</td>\n",
       "      <td>Automobile</td>\n",
       "      <td>Overweight_Level_II</td>\n",
       "    </tr>\n",
       "    <tr>\n",
       "      <th>20757</th>\n",
       "      <td>Male</td>\n",
       "      <td>26.680376</td>\n",
       "      <td>1.816547</td>\n",
       "      <td>118.134898</td>\n",
       "      <td>yes</td>\n",
       "      <td>yes</td>\n",
       "      <td>3.000000</td>\n",
       "      <td>3.000000</td>\n",
       "      <td>Sometimes</td>\n",
       "      <td>no</td>\n",
       "      <td>2.003563</td>\n",
       "      <td>no</td>\n",
       "      <td>0.684487</td>\n",
       "      <td>0.713823</td>\n",
       "      <td>Sometimes</td>\n",
       "      <td>Public_Transportation</td>\n",
       "      <td>Obesity_Type_II</td>\n",
       "    </tr>\n",
       "  </tbody>\n",
       "</table>\n",
       "<p>20758 rows × 17 columns</p>\n",
       "</div>"
      ],
      "text/plain": [
       "       Gender        Age    Height      Weight family_history_with_overweight  \\\n",
       "0        Male  24.443011  1.699998   81.669950                            yes   \n",
       "1      Female  18.000000  1.560000   57.000000                            yes   \n",
       "2      Female  18.000000  1.711460   50.165754                            yes   \n",
       "3      Female  20.952737  1.710730  131.274851                            yes   \n",
       "4        Male  31.641081  1.914186   93.798055                            yes   \n",
       "...       ...        ...       ...         ...                            ...   \n",
       "20753    Male  25.137087  1.766626  114.187096                            yes   \n",
       "20754    Male  18.000000  1.710000   50.000000                             no   \n",
       "20755    Male  20.101026  1.819557  105.580491                            yes   \n",
       "20756    Male  33.852953  1.700000   83.520113                            yes   \n",
       "20757    Male  26.680376  1.816547  118.134898                            yes   \n",
       "\n",
       "      FAVC      FCVC       NCP        CAEC SMOKE      CH2O SCC       FAF  \\\n",
       "0      yes  2.000000  2.983297   Sometimes    no  2.763573  no  0.000000   \n",
       "1      yes  2.000000  3.000000  Frequently    no  2.000000  no  1.000000   \n",
       "2      yes  1.880534  1.411685   Sometimes    no  1.910378  no  0.866045   \n",
       "3      yes  3.000000  3.000000   Sometimes    no  1.674061  no  1.467863   \n",
       "4      yes  2.679664  1.971472   Sometimes    no  1.979848  no  1.967973   \n",
       "...    ...       ...       ...         ...   ...       ...  ..       ...   \n",
       "20753  yes  2.919584  3.000000   Sometimes    no  2.151809  no  1.330519   \n",
       "20754  yes  3.000000  4.000000  Frequently    no  1.000000  no  2.000000   \n",
       "20755  yes  2.407817  3.000000   Sometimes    no  2.000000  no  1.158040   \n",
       "20756  yes  2.671238  1.971472   Sometimes    no  2.144838  no  0.000000   \n",
       "20757  yes  3.000000  3.000000   Sometimes    no  2.003563  no  0.684487   \n",
       "\n",
       "            TUE       CALC                 MTRANS           NObeyesdad  \n",
       "0      0.976473  Sometimes  Public_Transportation  Overweight_Level_II  \n",
       "1      1.000000         no             Automobile        Normal_Weight  \n",
       "2      1.673584         no  Public_Transportation  Insufficient_Weight  \n",
       "3      0.780199  Sometimes  Public_Transportation     Obesity_Type_III  \n",
       "4      0.931721  Sometimes  Public_Transportation  Overweight_Level_II  \n",
       "...         ...        ...                    ...                  ...  \n",
       "20753  0.196680  Sometimes  Public_Transportation      Obesity_Type_II  \n",
       "20754  1.000000  Sometimes  Public_Transportation  Insufficient_Weight  \n",
       "20755  1.198439         no  Public_Transportation      Obesity_Type_II  \n",
       "20756  0.973834         no             Automobile  Overweight_Level_II  \n",
       "20757  0.713823  Sometimes  Public_Transportation      Obesity_Type_II  \n",
       "\n",
       "[20758 rows x 17 columns]"
      ]
     },
     "execution_count": 8,
     "metadata": {},
     "output_type": "execute_result"
    }
   ],
   "source": [
    "df_train.drop_duplicates()"
   ]
  },
  {
   "cell_type": "code",
   "execution_count": 9,
   "id": "a3946bf8",
   "metadata": {
    "execution": {
     "iopub.execute_input": "2024-03-01T17:10:14.633846Z",
     "iopub.status.busy": "2024-03-01T17:10:14.633465Z",
     "iopub.status.idle": "2024-03-01T17:10:14.645954Z",
     "shell.execute_reply": "2024-03-01T17:10:14.645346Z"
    },
    "papermill": {
     "duration": 0.024721,
     "end_time": "2024-03-01T17:10:14.647431",
     "exception": false,
     "start_time": "2024-03-01T17:10:14.622710",
     "status": "completed"
    },
    "tags": []
   },
   "outputs": [
    {
     "data": {
      "text/plain": [
       "Gender                            0\n",
       "Age                               0\n",
       "Height                            0\n",
       "Weight                            0\n",
       "family_history_with_overweight    0\n",
       "FAVC                              0\n",
       "FCVC                              0\n",
       "NCP                               0\n",
       "CAEC                              0\n",
       "SMOKE                             0\n",
       "CH2O                              0\n",
       "SCC                               0\n",
       "FAF                               0\n",
       "TUE                               0\n",
       "CALC                              0\n",
       "MTRANS                            0\n",
       "NObeyesdad                        0\n",
       "dtype: int64"
      ]
     },
     "execution_count": 9,
     "metadata": {},
     "output_type": "execute_result"
    }
   ],
   "source": [
    "df_train.isnull().sum()"
   ]
  },
  {
   "cell_type": "code",
   "execution_count": 10,
   "id": "884f2930",
   "metadata": {
    "execution": {
     "iopub.execute_input": "2024-03-01T17:10:14.668478Z",
     "iopub.status.busy": "2024-03-01T17:10:14.668031Z",
     "iopub.status.idle": "2024-03-01T17:10:14.674713Z",
     "shell.execute_reply": "2024-03-01T17:10:14.673998Z"
    },
    "papermill": {
     "duration": 0.019011,
     "end_time": "2024-03-01T17:10:14.676253",
     "exception": false,
     "start_time": "2024-03-01T17:10:14.657242",
     "status": "completed"
    },
    "tags": []
   },
   "outputs": [],
   "source": [
    "X = df_train.iloc[:, : -1]\n",
    "y = df_train.iloc[:, -1]"
   ]
  },
  {
   "cell_type": "code",
   "execution_count": 11,
   "id": "4708d2cb",
   "metadata": {
    "execution": {
     "iopub.execute_input": "2024-03-01T17:10:14.697199Z",
     "iopub.status.busy": "2024-03-01T17:10:14.696752Z",
     "iopub.status.idle": "2024-03-01T17:10:14.713224Z",
     "shell.execute_reply": "2024-03-01T17:10:14.712469Z"
    },
    "papermill": {
     "duration": 0.028911,
     "end_time": "2024-03-01T17:10:14.714818",
     "exception": false,
     "start_time": "2024-03-01T17:10:14.685907",
     "status": "completed"
    },
    "tags": []
   },
   "outputs": [
    {
     "data": {
      "text/html": [
       "<div>\n",
       "<style scoped>\n",
       "    .dataframe tbody tr th:only-of-type {\n",
       "        vertical-align: middle;\n",
       "    }\n",
       "\n",
       "    .dataframe tbody tr th {\n",
       "        vertical-align: top;\n",
       "    }\n",
       "\n",
       "    .dataframe thead th {\n",
       "        text-align: right;\n",
       "    }\n",
       "</style>\n",
       "<table border=\"1\" class=\"dataframe\">\n",
       "  <thead>\n",
       "    <tr style=\"text-align: right;\">\n",
       "      <th></th>\n",
       "      <th>Gender</th>\n",
       "      <th>Age</th>\n",
       "      <th>Height</th>\n",
       "      <th>Weight</th>\n",
       "      <th>family_history_with_overweight</th>\n",
       "      <th>FAVC</th>\n",
       "      <th>FCVC</th>\n",
       "      <th>NCP</th>\n",
       "      <th>CAEC</th>\n",
       "      <th>SMOKE</th>\n",
       "      <th>CH2O</th>\n",
       "      <th>SCC</th>\n",
       "      <th>FAF</th>\n",
       "      <th>TUE</th>\n",
       "      <th>CALC</th>\n",
       "      <th>MTRANS</th>\n",
       "    </tr>\n",
       "  </thead>\n",
       "  <tbody>\n",
       "    <tr>\n",
       "      <th>0</th>\n",
       "      <td>Male</td>\n",
       "      <td>24.443011</td>\n",
       "      <td>1.699998</td>\n",
       "      <td>81.669950</td>\n",
       "      <td>yes</td>\n",
       "      <td>yes</td>\n",
       "      <td>2.000000</td>\n",
       "      <td>2.983297</td>\n",
       "      <td>Sometimes</td>\n",
       "      <td>no</td>\n",
       "      <td>2.763573</td>\n",
       "      <td>no</td>\n",
       "      <td>0.000000</td>\n",
       "      <td>0.976473</td>\n",
       "      <td>Sometimes</td>\n",
       "      <td>Public_Transportation</td>\n",
       "    </tr>\n",
       "    <tr>\n",
       "      <th>1</th>\n",
       "      <td>Female</td>\n",
       "      <td>18.000000</td>\n",
       "      <td>1.560000</td>\n",
       "      <td>57.000000</td>\n",
       "      <td>yes</td>\n",
       "      <td>yes</td>\n",
       "      <td>2.000000</td>\n",
       "      <td>3.000000</td>\n",
       "      <td>Frequently</td>\n",
       "      <td>no</td>\n",
       "      <td>2.000000</td>\n",
       "      <td>no</td>\n",
       "      <td>1.000000</td>\n",
       "      <td>1.000000</td>\n",
       "      <td>no</td>\n",
       "      <td>Automobile</td>\n",
       "    </tr>\n",
       "    <tr>\n",
       "      <th>2</th>\n",
       "      <td>Female</td>\n",
       "      <td>18.000000</td>\n",
       "      <td>1.711460</td>\n",
       "      <td>50.165754</td>\n",
       "      <td>yes</td>\n",
       "      <td>yes</td>\n",
       "      <td>1.880534</td>\n",
       "      <td>1.411685</td>\n",
       "      <td>Sometimes</td>\n",
       "      <td>no</td>\n",
       "      <td>1.910378</td>\n",
       "      <td>no</td>\n",
       "      <td>0.866045</td>\n",
       "      <td>1.673584</td>\n",
       "      <td>no</td>\n",
       "      <td>Public_Transportation</td>\n",
       "    </tr>\n",
       "    <tr>\n",
       "      <th>3</th>\n",
       "      <td>Female</td>\n",
       "      <td>20.952737</td>\n",
       "      <td>1.710730</td>\n",
       "      <td>131.274851</td>\n",
       "      <td>yes</td>\n",
       "      <td>yes</td>\n",
       "      <td>3.000000</td>\n",
       "      <td>3.000000</td>\n",
       "      <td>Sometimes</td>\n",
       "      <td>no</td>\n",
       "      <td>1.674061</td>\n",
       "      <td>no</td>\n",
       "      <td>1.467863</td>\n",
       "      <td>0.780199</td>\n",
       "      <td>Sometimes</td>\n",
       "      <td>Public_Transportation</td>\n",
       "    </tr>\n",
       "    <tr>\n",
       "      <th>4</th>\n",
       "      <td>Male</td>\n",
       "      <td>31.641081</td>\n",
       "      <td>1.914186</td>\n",
       "      <td>93.798055</td>\n",
       "      <td>yes</td>\n",
       "      <td>yes</td>\n",
       "      <td>2.679664</td>\n",
       "      <td>1.971472</td>\n",
       "      <td>Sometimes</td>\n",
       "      <td>no</td>\n",
       "      <td>1.979848</td>\n",
       "      <td>no</td>\n",
       "      <td>1.967973</td>\n",
       "      <td>0.931721</td>\n",
       "      <td>Sometimes</td>\n",
       "      <td>Public_Transportation</td>\n",
       "    </tr>\n",
       "    <tr>\n",
       "      <th>...</th>\n",
       "      <td>...</td>\n",
       "      <td>...</td>\n",
       "      <td>...</td>\n",
       "      <td>...</td>\n",
       "      <td>...</td>\n",
       "      <td>...</td>\n",
       "      <td>...</td>\n",
       "      <td>...</td>\n",
       "      <td>...</td>\n",
       "      <td>...</td>\n",
       "      <td>...</td>\n",
       "      <td>...</td>\n",
       "      <td>...</td>\n",
       "      <td>...</td>\n",
       "      <td>...</td>\n",
       "      <td>...</td>\n",
       "    </tr>\n",
       "    <tr>\n",
       "      <th>20753</th>\n",
       "      <td>Male</td>\n",
       "      <td>25.137087</td>\n",
       "      <td>1.766626</td>\n",
       "      <td>114.187096</td>\n",
       "      <td>yes</td>\n",
       "      <td>yes</td>\n",
       "      <td>2.919584</td>\n",
       "      <td>3.000000</td>\n",
       "      <td>Sometimes</td>\n",
       "      <td>no</td>\n",
       "      <td>2.151809</td>\n",
       "      <td>no</td>\n",
       "      <td>1.330519</td>\n",
       "      <td>0.196680</td>\n",
       "      <td>Sometimes</td>\n",
       "      <td>Public_Transportation</td>\n",
       "    </tr>\n",
       "    <tr>\n",
       "      <th>20754</th>\n",
       "      <td>Male</td>\n",
       "      <td>18.000000</td>\n",
       "      <td>1.710000</td>\n",
       "      <td>50.000000</td>\n",
       "      <td>no</td>\n",
       "      <td>yes</td>\n",
       "      <td>3.000000</td>\n",
       "      <td>4.000000</td>\n",
       "      <td>Frequently</td>\n",
       "      <td>no</td>\n",
       "      <td>1.000000</td>\n",
       "      <td>no</td>\n",
       "      <td>2.000000</td>\n",
       "      <td>1.000000</td>\n",
       "      <td>Sometimes</td>\n",
       "      <td>Public_Transportation</td>\n",
       "    </tr>\n",
       "    <tr>\n",
       "      <th>20755</th>\n",
       "      <td>Male</td>\n",
       "      <td>20.101026</td>\n",
       "      <td>1.819557</td>\n",
       "      <td>105.580491</td>\n",
       "      <td>yes</td>\n",
       "      <td>yes</td>\n",
       "      <td>2.407817</td>\n",
       "      <td>3.000000</td>\n",
       "      <td>Sometimes</td>\n",
       "      <td>no</td>\n",
       "      <td>2.000000</td>\n",
       "      <td>no</td>\n",
       "      <td>1.158040</td>\n",
       "      <td>1.198439</td>\n",
       "      <td>no</td>\n",
       "      <td>Public_Transportation</td>\n",
       "    </tr>\n",
       "    <tr>\n",
       "      <th>20756</th>\n",
       "      <td>Male</td>\n",
       "      <td>33.852953</td>\n",
       "      <td>1.700000</td>\n",
       "      <td>83.520113</td>\n",
       "      <td>yes</td>\n",
       "      <td>yes</td>\n",
       "      <td>2.671238</td>\n",
       "      <td>1.971472</td>\n",
       "      <td>Sometimes</td>\n",
       "      <td>no</td>\n",
       "      <td>2.144838</td>\n",
       "      <td>no</td>\n",
       "      <td>0.000000</td>\n",
       "      <td>0.973834</td>\n",
       "      <td>no</td>\n",
       "      <td>Automobile</td>\n",
       "    </tr>\n",
       "    <tr>\n",
       "      <th>20757</th>\n",
       "      <td>Male</td>\n",
       "      <td>26.680376</td>\n",
       "      <td>1.816547</td>\n",
       "      <td>118.134898</td>\n",
       "      <td>yes</td>\n",
       "      <td>yes</td>\n",
       "      <td>3.000000</td>\n",
       "      <td>3.000000</td>\n",
       "      <td>Sometimes</td>\n",
       "      <td>no</td>\n",
       "      <td>2.003563</td>\n",
       "      <td>no</td>\n",
       "      <td>0.684487</td>\n",
       "      <td>0.713823</td>\n",
       "      <td>Sometimes</td>\n",
       "      <td>Public_Transportation</td>\n",
       "    </tr>\n",
       "  </tbody>\n",
       "</table>\n",
       "<p>20758 rows × 16 columns</p>\n",
       "</div>"
      ],
      "text/plain": [
       "       Gender        Age    Height      Weight family_history_with_overweight  \\\n",
       "0        Male  24.443011  1.699998   81.669950                            yes   \n",
       "1      Female  18.000000  1.560000   57.000000                            yes   \n",
       "2      Female  18.000000  1.711460   50.165754                            yes   \n",
       "3      Female  20.952737  1.710730  131.274851                            yes   \n",
       "4        Male  31.641081  1.914186   93.798055                            yes   \n",
       "...       ...        ...       ...         ...                            ...   \n",
       "20753    Male  25.137087  1.766626  114.187096                            yes   \n",
       "20754    Male  18.000000  1.710000   50.000000                             no   \n",
       "20755    Male  20.101026  1.819557  105.580491                            yes   \n",
       "20756    Male  33.852953  1.700000   83.520113                            yes   \n",
       "20757    Male  26.680376  1.816547  118.134898                            yes   \n",
       "\n",
       "      FAVC      FCVC       NCP        CAEC SMOKE      CH2O SCC       FAF  \\\n",
       "0      yes  2.000000  2.983297   Sometimes    no  2.763573  no  0.000000   \n",
       "1      yes  2.000000  3.000000  Frequently    no  2.000000  no  1.000000   \n",
       "2      yes  1.880534  1.411685   Sometimes    no  1.910378  no  0.866045   \n",
       "3      yes  3.000000  3.000000   Sometimes    no  1.674061  no  1.467863   \n",
       "4      yes  2.679664  1.971472   Sometimes    no  1.979848  no  1.967973   \n",
       "...    ...       ...       ...         ...   ...       ...  ..       ...   \n",
       "20753  yes  2.919584  3.000000   Sometimes    no  2.151809  no  1.330519   \n",
       "20754  yes  3.000000  4.000000  Frequently    no  1.000000  no  2.000000   \n",
       "20755  yes  2.407817  3.000000   Sometimes    no  2.000000  no  1.158040   \n",
       "20756  yes  2.671238  1.971472   Sometimes    no  2.144838  no  0.000000   \n",
       "20757  yes  3.000000  3.000000   Sometimes    no  2.003563  no  0.684487   \n",
       "\n",
       "            TUE       CALC                 MTRANS  \n",
       "0      0.976473  Sometimes  Public_Transportation  \n",
       "1      1.000000         no             Automobile  \n",
       "2      1.673584         no  Public_Transportation  \n",
       "3      0.780199  Sometimes  Public_Transportation  \n",
       "4      0.931721  Sometimes  Public_Transportation  \n",
       "...         ...        ...                    ...  \n",
       "20753  0.196680  Sometimes  Public_Transportation  \n",
       "20754  1.000000  Sometimes  Public_Transportation  \n",
       "20755  1.198439         no  Public_Transportation  \n",
       "20756  0.973834         no             Automobile  \n",
       "20757  0.713823  Sometimes  Public_Transportation  \n",
       "\n",
       "[20758 rows x 16 columns]"
      ]
     },
     "execution_count": 11,
     "metadata": {},
     "output_type": "execute_result"
    }
   ],
   "source": [
    "X"
   ]
  },
  {
   "cell_type": "code",
   "execution_count": 12,
   "id": "75ab1118",
   "metadata": {
    "execution": {
     "iopub.execute_input": "2024-03-01T17:10:14.736398Z",
     "iopub.status.busy": "2024-03-01T17:10:14.736054Z",
     "iopub.status.idle": "2024-03-01T17:10:14.743248Z",
     "shell.execute_reply": "2024-03-01T17:10:14.742420Z"
    },
    "papermill": {
     "duration": 0.020136,
     "end_time": "2024-03-01T17:10:14.745233",
     "exception": false,
     "start_time": "2024-03-01T17:10:14.725097",
     "status": "completed"
    },
    "tags": []
   },
   "outputs": [
    {
     "data": {
      "text/plain": [
       "0        Overweight_Level_II\n",
       "1              Normal_Weight\n",
       "2        Insufficient_Weight\n",
       "3           Obesity_Type_III\n",
       "4        Overweight_Level_II\n",
       "                ...         \n",
       "20753        Obesity_Type_II\n",
       "20754    Insufficient_Weight\n",
       "20755        Obesity_Type_II\n",
       "20756    Overweight_Level_II\n",
       "20757        Obesity_Type_II\n",
       "Name: NObeyesdad, Length: 20758, dtype: object"
      ]
     },
     "execution_count": 12,
     "metadata": {},
     "output_type": "execute_result"
    }
   ],
   "source": [
    "y"
   ]
  },
  {
   "cell_type": "code",
   "execution_count": 13,
   "id": "f61f6758",
   "metadata": {
    "execution": {
     "iopub.execute_input": "2024-03-01T17:10:14.769590Z",
     "iopub.status.busy": "2024-03-01T17:10:14.768947Z",
     "iopub.status.idle": "2024-03-01T17:10:14.775564Z",
     "shell.execute_reply": "2024-03-01T17:10:14.774865Z"
    },
    "papermill": {
     "duration": 0.021,
     "end_time": "2024-03-01T17:10:14.777209",
     "exception": false,
     "start_time": "2024-03-01T17:10:14.756209",
     "status": "completed"
    },
    "tags": []
   },
   "outputs": [],
   "source": [
    "cat_col = X.select_dtypes(include=['object']).columns"
   ]
  },
  {
   "cell_type": "code",
   "execution_count": 14,
   "id": "a7b0ee95",
   "metadata": {
    "execution": {
     "iopub.execute_input": "2024-03-01T17:10:14.800658Z",
     "iopub.status.busy": "2024-03-01T17:10:14.800046Z",
     "iopub.status.idle": "2024-03-01T17:10:14.805255Z",
     "shell.execute_reply": "2024-03-01T17:10:14.804642Z"
    },
    "papermill": {
     "duration": 0.018689,
     "end_time": "2024-03-01T17:10:14.806831",
     "exception": false,
     "start_time": "2024-03-01T17:10:14.788142",
     "status": "completed"
    },
    "tags": []
   },
   "outputs": [
    {
     "data": {
      "text/plain": [
       "Index(['Gender', 'family_history_with_overweight', 'FAVC', 'CAEC', 'SMOKE',\n",
       "       'SCC', 'CALC', 'MTRANS'],\n",
       "      dtype='object')"
      ]
     },
     "execution_count": 14,
     "metadata": {},
     "output_type": "execute_result"
    }
   ],
   "source": [
    "cat_col"
   ]
  },
  {
   "cell_type": "code",
   "execution_count": 15,
   "id": "be16d057",
   "metadata": {
    "execution": {
     "iopub.execute_input": "2024-03-01T17:10:14.830036Z",
     "iopub.status.busy": "2024-03-01T17:10:14.829528Z",
     "iopub.status.idle": "2024-03-01T17:10:14.833706Z",
     "shell.execute_reply": "2024-03-01T17:10:14.832996Z"
    },
    "papermill": {
     "duration": 0.017958,
     "end_time": "2024-03-01T17:10:14.835212",
     "exception": false,
     "start_time": "2024-03-01T17:10:14.817254",
     "status": "completed"
    },
    "tags": []
   },
   "outputs": [],
   "source": [
    "num_col = X.select_dtypes(exclude=['object']).columns"
   ]
  },
  {
   "cell_type": "code",
   "execution_count": 16,
   "id": "eb7b9eed",
   "metadata": {
    "execution": {
     "iopub.execute_input": "2024-03-01T17:10:14.857773Z",
     "iopub.status.busy": "2024-03-01T17:10:14.857286Z",
     "iopub.status.idle": "2024-03-01T17:10:14.862114Z",
     "shell.execute_reply": "2024-03-01T17:10:14.861504Z"
    },
    "papermill": {
     "duration": 0.017746,
     "end_time": "2024-03-01T17:10:14.863562",
     "exception": false,
     "start_time": "2024-03-01T17:10:14.845816",
     "status": "completed"
    },
    "tags": []
   },
   "outputs": [
    {
     "data": {
      "text/plain": [
       "Index(['Age', 'Height', 'Weight', 'FCVC', 'NCP', 'CH2O', 'FAF', 'TUE'], dtype='object')"
      ]
     },
     "execution_count": 16,
     "metadata": {},
     "output_type": "execute_result"
    }
   ],
   "source": [
    "num_col"
   ]
  },
  {
   "cell_type": "code",
   "execution_count": 17,
   "id": "08497fc4",
   "metadata": {
    "execution": {
     "iopub.execute_input": "2024-03-01T17:10:14.886276Z",
     "iopub.status.busy": "2024-03-01T17:10:14.885804Z",
     "iopub.status.idle": "2024-03-01T17:10:14.911272Z",
     "shell.execute_reply": "2024-03-01T17:10:14.909600Z"
    },
    "papermill": {
     "duration": 0.039095,
     "end_time": "2024-03-01T17:10:14.913183",
     "exception": false,
     "start_time": "2024-03-01T17:10:14.874088",
     "status": "completed"
    },
    "tags": []
   },
   "outputs": [
    {
     "name": "stdout",
     "output_type": "stream",
     "text": [
      "Gender has 2 items:  ['Male' 'Female']\n",
      "family_history_with_overweight has 2 items:  ['yes' 'no']\n",
      "FAVC has 2 items:  ['yes' 'no']\n",
      "CAEC has 4 items:  ['Sometimes' 'Frequently' 'no' 'Always']\n",
      "SMOKE has 2 items:  ['no' 'yes']\n",
      "SCC has 2 items:  ['no' 'yes']\n",
      "CALC has 3 items:  ['Sometimes' 'no' 'Frequently']\n",
      "MTRANS has 5 items:  ['Public_Transportation' 'Automobile' 'Walking' 'Motorbike' 'Bike']\n"
     ]
    }
   ],
   "source": [
    "for col in cat_col:\n",
    "    print(\"{} has {} items: \".format(col, len(X[col].unique())), X[col].unique())"
   ]
  },
  {
   "cell_type": "code",
   "execution_count": 18,
   "id": "50638f61",
   "metadata": {
    "execution": {
     "iopub.execute_input": "2024-03-01T17:10:14.937885Z",
     "iopub.status.busy": "2024-03-01T17:10:14.936992Z",
     "iopub.status.idle": "2024-03-01T17:10:14.940854Z",
     "shell.execute_reply": "2024-03-01T17:10:14.940256Z"
    },
    "papermill": {
     "duration": 0.017595,
     "end_time": "2024-03-01T17:10:14.942369",
     "exception": false,
     "start_time": "2024-03-01T17:10:14.924774",
     "status": "completed"
    },
    "tags": []
   },
   "outputs": [],
   "source": [
    "label_encoder = LabelEncoder()\n",
    "encoder = OneHotEncoder()"
   ]
  },
  {
   "cell_type": "code",
   "execution_count": 19,
   "id": "36749b4e",
   "metadata": {
    "execution": {
     "iopub.execute_input": "2024-03-01T17:10:14.965873Z",
     "iopub.status.busy": "2024-03-01T17:10:14.964900Z",
     "iopub.status.idle": "2024-03-01T17:10:15.001089Z",
     "shell.execute_reply": "2024-03-01T17:10:15.000216Z"
    },
    "papermill": {
     "duration": 0.049577,
     "end_time": "2024-03-01T17:10:15.002978",
     "exception": false,
     "start_time": "2024-03-01T17:10:14.953401",
     "status": "completed"
    },
    "tags": []
   },
   "outputs": [],
   "source": [
    "for col in cat_col:\n",
    "    X[col] = label_encoder.fit_transform(X[col])"
   ]
  },
  {
   "cell_type": "code",
   "execution_count": 20,
   "id": "864ccae1",
   "metadata": {
    "execution": {
     "iopub.execute_input": "2024-03-01T17:10:15.026351Z",
     "iopub.status.busy": "2024-03-01T17:10:15.025803Z",
     "iopub.status.idle": "2024-03-01T17:10:15.035317Z",
     "shell.execute_reply": "2024-03-01T17:10:15.034203Z"
    },
    "papermill": {
     "duration": 0.023412,
     "end_time": "2024-03-01T17:10:15.037357",
     "exception": false,
     "start_time": "2024-03-01T17:10:15.013945",
     "status": "completed"
    },
    "tags": []
   },
   "outputs": [
    {
     "name": "stdout",
     "output_type": "stream",
     "text": [
      "Gender has 2 items:  [1 0]\n",
      "family_history_with_overweight has 2 items:  [1 0]\n",
      "FAVC has 2 items:  [1 0]\n",
      "CAEC has 4 items:  [2 1 3 0]\n",
      "SMOKE has 2 items:  [0 1]\n",
      "SCC has 2 items:  [0 1]\n",
      "CALC has 3 items:  [1 2 0]\n",
      "MTRANS has 5 items:  [3 0 4 2 1]\n"
     ]
    }
   ],
   "source": [
    "for col in cat_col:\n",
    "    print(\"{} has {} items: \".format(col, len(X[col].unique())), X[col].unique())"
   ]
  },
  {
   "cell_type": "code",
   "execution_count": 21,
   "id": "5095c5bc",
   "metadata": {
    "execution": {
     "iopub.execute_input": "2024-03-01T17:10:15.060619Z",
     "iopub.status.busy": "2024-03-01T17:10:15.059979Z",
     "iopub.status.idle": "2024-03-01T17:10:15.084822Z",
     "shell.execute_reply": "2024-03-01T17:10:15.084019Z"
    },
    "papermill": {
     "duration": 0.038114,
     "end_time": "2024-03-01T17:10:15.086666",
     "exception": false,
     "start_time": "2024-03-01T17:10:15.048552",
     "status": "completed"
    },
    "tags": []
   },
   "outputs": [],
   "source": [
    "for col in cat_col:\n",
    "    df_test[col] = label_encoder.fit_transform(df_test[col])"
   ]
  },
  {
   "cell_type": "code",
   "execution_count": 22,
   "id": "cbfd179c",
   "metadata": {
    "execution": {
     "iopub.execute_input": "2024-03-01T17:10:15.151112Z",
     "iopub.status.busy": "2024-03-01T17:10:15.150817Z",
     "iopub.status.idle": "2024-03-01T17:10:15.213851Z",
     "shell.execute_reply": "2024-03-01T17:10:15.212916Z"
    },
    "papermill": {
     "duration": 0.076939,
     "end_time": "2024-03-01T17:10:15.215996",
     "exception": false,
     "start_time": "2024-03-01T17:10:15.139057",
     "status": "completed"
    },
    "tags": []
   },
   "outputs": [],
   "source": [
    "ordered_rank_features = SelectKBest(score_func=chi2, k=16)\n",
    "ordered_feature = ordered_rank_features.fit(X,y)"
   ]
  },
  {
   "cell_type": "code",
   "execution_count": 23,
   "id": "8b4845d1",
   "metadata": {
    "execution": {
     "iopub.execute_input": "2024-03-01T17:10:15.239249Z",
     "iopub.status.busy": "2024-03-01T17:10:15.238926Z",
     "iopub.status.idle": "2024-03-01T17:10:15.243673Z",
     "shell.execute_reply": "2024-03-01T17:10:15.242832Z"
    },
    "papermill": {
     "duration": 0.018278,
     "end_time": "2024-03-01T17:10:15.245234",
     "exception": false,
     "start_time": "2024-03-01T17:10:15.226956",
     "status": "completed"
    },
    "tags": []
   },
   "outputs": [],
   "source": [
    "X_scores = pd.DataFrame(ordered_feature.scores_, columns=['Score'])\n",
    "X_columns = pd.DataFrame(X.columns)"
   ]
  },
  {
   "cell_type": "code",
   "execution_count": 24,
   "id": "cbdf838b",
   "metadata": {
    "execution": {
     "iopub.execute_input": "2024-03-01T17:10:15.268160Z",
     "iopub.status.busy": "2024-03-01T17:10:15.267635Z",
     "iopub.status.idle": "2024-03-01T17:10:15.272082Z",
     "shell.execute_reply": "2024-03-01T17:10:15.271350Z"
    },
    "papermill": {
     "duration": 0.017487,
     "end_time": "2024-03-01T17:10:15.273562",
     "exception": false,
     "start_time": "2024-03-01T17:10:15.256075",
     "status": "completed"
    },
    "tags": []
   },
   "outputs": [],
   "source": [
    "features_rank = pd.concat([X_columns, X_scores], axis=1)"
   ]
  },
  {
   "cell_type": "code",
   "execution_count": 25,
   "id": "ebd9c708",
   "metadata": {
    "execution": {
     "iopub.execute_input": "2024-03-01T17:10:15.296262Z",
     "iopub.status.busy": "2024-03-01T17:10:15.295957Z",
     "iopub.status.idle": "2024-03-01T17:10:15.304308Z",
     "shell.execute_reply": "2024-03-01T17:10:15.303559Z"
    },
    "papermill": {
     "duration": 0.02147,
     "end_time": "2024-03-01T17:10:15.305811",
     "exception": false,
     "start_time": "2024-03-01T17:10:15.284341",
     "status": "completed"
    },
    "tags": []
   },
   "outputs": [
    {
     "data": {
      "text/html": [
       "<div>\n",
       "<style scoped>\n",
       "    .dataframe tbody tr th:only-of-type {\n",
       "        vertical-align: middle;\n",
       "    }\n",
       "\n",
       "    .dataframe tbody tr th {\n",
       "        vertical-align: top;\n",
       "    }\n",
       "\n",
       "    .dataframe thead th {\n",
       "        text-align: right;\n",
       "    }\n",
       "</style>\n",
       "<table border=\"1\" class=\"dataframe\">\n",
       "  <thead>\n",
       "    <tr style=\"text-align: right;\">\n",
       "      <th></th>\n",
       "      <th>Features</th>\n",
       "      <th>Score</th>\n",
       "    </tr>\n",
       "  </thead>\n",
       "  <tbody>\n",
       "    <tr>\n",
       "      <th>0</th>\n",
       "      <td>Gender</td>\n",
       "      <td>3993.359926</td>\n",
       "    </tr>\n",
       "    <tr>\n",
       "      <th>1</th>\n",
       "      <td>Age</td>\n",
       "      <td>6134.651321</td>\n",
       "    </tr>\n",
       "    <tr>\n",
       "      <th>2</th>\n",
       "      <td>Height</td>\n",
       "      <td>16.759404</td>\n",
       "    </tr>\n",
       "    <tr>\n",
       "      <th>3</th>\n",
       "      <td>Weight</td>\n",
       "      <td>142758.611814</td>\n",
       "    </tr>\n",
       "    <tr>\n",
       "      <th>4</th>\n",
       "      <td>family_history_with_overweight</td>\n",
       "      <td>1158.536429</td>\n",
       "    </tr>\n",
       "    <tr>\n",
       "      <th>5</th>\n",
       "      <td>FAVC</td>\n",
       "      <td>132.924484</td>\n",
       "    </tr>\n",
       "    <tr>\n",
       "      <th>6</th>\n",
       "      <td>FCVC</td>\n",
       "      <td>747.358741</td>\n",
       "    </tr>\n",
       "    <tr>\n",
       "      <th>7</th>\n",
       "      <td>NCP</td>\n",
       "      <td>298.770719</td>\n",
       "    </tr>\n",
       "    <tr>\n",
       "      <th>8</th>\n",
       "      <td>CAEC</td>\n",
       "      <td>379.185471</td>\n",
       "    </tr>\n",
       "    <tr>\n",
       "      <th>9</th>\n",
       "      <td>SMOKE</td>\n",
       "      <td>213.747686</td>\n",
       "    </tr>\n",
       "    <tr>\n",
       "      <th>10</th>\n",
       "      <td>CH2O</td>\n",
       "      <td>380.041503</td>\n",
       "    </tr>\n",
       "    <tr>\n",
       "      <th>11</th>\n",
       "      <td>SCC</td>\n",
       "      <td>990.882071</td>\n",
       "    </tr>\n",
       "    <tr>\n",
       "      <th>12</th>\n",
       "      <td>FAF</td>\n",
       "      <td>1122.798723</td>\n",
       "    </tr>\n",
       "    <tr>\n",
       "      <th>13</th>\n",
       "      <td>TUE</td>\n",
       "      <td>498.073722</td>\n",
       "    </tr>\n",
       "    <tr>\n",
       "      <th>14</th>\n",
       "      <td>CALC</td>\n",
       "      <td>420.914626</td>\n",
       "    </tr>\n",
       "    <tr>\n",
       "      <th>15</th>\n",
       "      <td>MTRANS</td>\n",
       "      <td>939.113322</td>\n",
       "    </tr>\n",
       "  </tbody>\n",
       "</table>\n",
       "</div>"
      ],
      "text/plain": [
       "                          Features          Score\n",
       "0                           Gender    3993.359926\n",
       "1                              Age    6134.651321\n",
       "2                           Height      16.759404\n",
       "3                           Weight  142758.611814\n",
       "4   family_history_with_overweight    1158.536429\n",
       "5                             FAVC     132.924484\n",
       "6                             FCVC     747.358741\n",
       "7                              NCP     298.770719\n",
       "8                             CAEC     379.185471\n",
       "9                            SMOKE     213.747686\n",
       "10                            CH2O     380.041503\n",
       "11                             SCC     990.882071\n",
       "12                             FAF    1122.798723\n",
       "13                             TUE     498.073722\n",
       "14                            CALC     420.914626\n",
       "15                          MTRANS     939.113322"
      ]
     },
     "execution_count": 25,
     "metadata": {},
     "output_type": "execute_result"
    }
   ],
   "source": [
    "features_rank.columns = ['Features', 'Score']\n",
    "features_rank"
   ]
  },
  {
   "cell_type": "code",
   "execution_count": 26,
   "id": "269c941e",
   "metadata": {
    "execution": {
     "iopub.execute_input": "2024-03-01T17:10:15.329019Z",
     "iopub.status.busy": "2024-03-01T17:10:15.328713Z",
     "iopub.status.idle": "2024-03-01T17:10:15.339651Z",
     "shell.execute_reply": "2024-03-01T17:10:15.338832Z"
    },
    "papermill": {
     "duration": 0.024376,
     "end_time": "2024-03-01T17:10:15.341164",
     "exception": false,
     "start_time": "2024-03-01T17:10:15.316788",
     "status": "completed"
    },
    "tags": []
   },
   "outputs": [
    {
     "data": {
      "text/html": [
       "<div>\n",
       "<style scoped>\n",
       "    .dataframe tbody tr th:only-of-type {\n",
       "        vertical-align: middle;\n",
       "    }\n",
       "\n",
       "    .dataframe tbody tr th {\n",
       "        vertical-align: top;\n",
       "    }\n",
       "\n",
       "    .dataframe thead th {\n",
       "        text-align: right;\n",
       "    }\n",
       "</style>\n",
       "<table border=\"1\" class=\"dataframe\">\n",
       "  <thead>\n",
       "    <tr style=\"text-align: right;\">\n",
       "      <th></th>\n",
       "      <th>Features</th>\n",
       "      <th>Score</th>\n",
       "    </tr>\n",
       "  </thead>\n",
       "  <tbody>\n",
       "    <tr>\n",
       "      <th>3</th>\n",
       "      <td>Weight</td>\n",
       "      <td>142758.611814</td>\n",
       "    </tr>\n",
       "    <tr>\n",
       "      <th>1</th>\n",
       "      <td>Age</td>\n",
       "      <td>6134.651321</td>\n",
       "    </tr>\n",
       "    <tr>\n",
       "      <th>0</th>\n",
       "      <td>Gender</td>\n",
       "      <td>3993.359926</td>\n",
       "    </tr>\n",
       "    <tr>\n",
       "      <th>4</th>\n",
       "      <td>family_history_with_overweight</td>\n",
       "      <td>1158.536429</td>\n",
       "    </tr>\n",
       "    <tr>\n",
       "      <th>12</th>\n",
       "      <td>FAF</td>\n",
       "      <td>1122.798723</td>\n",
       "    </tr>\n",
       "    <tr>\n",
       "      <th>11</th>\n",
       "      <td>SCC</td>\n",
       "      <td>990.882071</td>\n",
       "    </tr>\n",
       "    <tr>\n",
       "      <th>15</th>\n",
       "      <td>MTRANS</td>\n",
       "      <td>939.113322</td>\n",
       "    </tr>\n",
       "    <tr>\n",
       "      <th>6</th>\n",
       "      <td>FCVC</td>\n",
       "      <td>747.358741</td>\n",
       "    </tr>\n",
       "    <tr>\n",
       "      <th>13</th>\n",
       "      <td>TUE</td>\n",
       "      <td>498.073722</td>\n",
       "    </tr>\n",
       "    <tr>\n",
       "      <th>14</th>\n",
       "      <td>CALC</td>\n",
       "      <td>420.914626</td>\n",
       "    </tr>\n",
       "  </tbody>\n",
       "</table>\n",
       "</div>"
      ],
      "text/plain": [
       "                          Features          Score\n",
       "3                           Weight  142758.611814\n",
       "1                              Age    6134.651321\n",
       "0                           Gender    3993.359926\n",
       "4   family_history_with_overweight    1158.536429\n",
       "12                             FAF    1122.798723\n",
       "11                             SCC     990.882071\n",
       "15                          MTRANS     939.113322\n",
       "6                             FCVC     747.358741\n",
       "13                             TUE     498.073722\n",
       "14                            CALC     420.914626"
      ]
     },
     "execution_count": 26,
     "metadata": {},
     "output_type": "execute_result"
    }
   ],
   "source": [
    "features_rank.nlargest(10, 'Score')"
   ]
  },
  {
   "cell_type": "code",
   "execution_count": 27,
   "id": "d50d5621",
   "metadata": {
    "execution": {
     "iopub.execute_input": "2024-03-01T17:10:15.364120Z",
     "iopub.status.busy": "2024-03-01T17:10:15.363857Z",
     "iopub.status.idle": "2024-03-01T17:10:17.702622Z",
     "shell.execute_reply": "2024-03-01T17:10:17.701590Z"
    },
    "papermill": {
     "duration": 2.35281,
     "end_time": "2024-03-01T17:10:17.704953",
     "exception": false,
     "start_time": "2024-03-01T17:10:15.352143",
     "status": "completed"
    },
    "tags": []
   },
   "outputs": [
    {
     "data": {
      "text/html": [
       "<style>#sk-container-id-1 {color: black;background-color: white;}#sk-container-id-1 pre{padding: 0;}#sk-container-id-1 div.sk-toggleable {background-color: white;}#sk-container-id-1 label.sk-toggleable__label {cursor: pointer;display: block;width: 100%;margin-bottom: 0;padding: 0.3em;box-sizing: border-box;text-align: center;}#sk-container-id-1 label.sk-toggleable__label-arrow:before {content: \"▸\";float: left;margin-right: 0.25em;color: #696969;}#sk-container-id-1 label.sk-toggleable__label-arrow:hover:before {color: black;}#sk-container-id-1 div.sk-estimator:hover label.sk-toggleable__label-arrow:before {color: black;}#sk-container-id-1 div.sk-toggleable__content {max-height: 0;max-width: 0;overflow: hidden;text-align: left;background-color: #f0f8ff;}#sk-container-id-1 div.sk-toggleable__content pre {margin: 0.2em;color: black;border-radius: 0.25em;background-color: #f0f8ff;}#sk-container-id-1 input.sk-toggleable__control:checked~div.sk-toggleable__content {max-height: 200px;max-width: 100%;overflow: auto;}#sk-container-id-1 input.sk-toggleable__control:checked~label.sk-toggleable__label-arrow:before {content: \"▾\";}#sk-container-id-1 div.sk-estimator input.sk-toggleable__control:checked~label.sk-toggleable__label {background-color: #d4ebff;}#sk-container-id-1 div.sk-label input.sk-toggleable__control:checked~label.sk-toggleable__label {background-color: #d4ebff;}#sk-container-id-1 input.sk-hidden--visually {border: 0;clip: rect(1px 1px 1px 1px);clip: rect(1px, 1px, 1px, 1px);height: 1px;margin: -1px;overflow: hidden;padding: 0;position: absolute;width: 1px;}#sk-container-id-1 div.sk-estimator {font-family: monospace;background-color: #f0f8ff;border: 1px dotted black;border-radius: 0.25em;box-sizing: border-box;margin-bottom: 0.5em;}#sk-container-id-1 div.sk-estimator:hover {background-color: #d4ebff;}#sk-container-id-1 div.sk-parallel-item::after {content: \"\";width: 100%;border-bottom: 1px solid gray;flex-grow: 1;}#sk-container-id-1 div.sk-label:hover label.sk-toggleable__label {background-color: #d4ebff;}#sk-container-id-1 div.sk-serial::before {content: \"\";position: absolute;border-left: 1px solid gray;box-sizing: border-box;top: 0;bottom: 0;left: 50%;z-index: 0;}#sk-container-id-1 div.sk-serial {display: flex;flex-direction: column;align-items: center;background-color: white;padding-right: 0.2em;padding-left: 0.2em;position: relative;}#sk-container-id-1 div.sk-item {position: relative;z-index: 1;}#sk-container-id-1 div.sk-parallel {display: flex;align-items: stretch;justify-content: center;background-color: white;position: relative;}#sk-container-id-1 div.sk-item::before, #sk-container-id-1 div.sk-parallel-item::before {content: \"\";position: absolute;border-left: 1px solid gray;box-sizing: border-box;top: 0;bottom: 0;left: 50%;z-index: -1;}#sk-container-id-1 div.sk-parallel-item {display: flex;flex-direction: column;z-index: 1;position: relative;background-color: white;}#sk-container-id-1 div.sk-parallel-item:first-child::after {align-self: flex-end;width: 50%;}#sk-container-id-1 div.sk-parallel-item:last-child::after {align-self: flex-start;width: 50%;}#sk-container-id-1 div.sk-parallel-item:only-child::after {width: 0;}#sk-container-id-1 div.sk-dashed-wrapped {border: 1px dashed gray;margin: 0 0.4em 0.5em 0.4em;box-sizing: border-box;padding-bottom: 0.4em;background-color: white;}#sk-container-id-1 div.sk-label label {font-family: monospace;font-weight: bold;display: inline-block;line-height: 1.2em;}#sk-container-id-1 div.sk-label-container {text-align: center;}#sk-container-id-1 div.sk-container {/* jupyter's `normalize.less` sets `[hidden] { display: none; }` but bootstrap.min.css set `[hidden] { display: none !important; }` so we also need the `!important` here to be able to override the default hidden behavior on the sphinx rendered scikit-learn.org. See: https://github.com/scikit-learn/scikit-learn/issues/21755 */display: inline-block !important;position: relative;}#sk-container-id-1 div.sk-text-repr-fallback {display: none;}</style><div id=\"sk-container-id-1\" class=\"sk-top-container\"><div class=\"sk-text-repr-fallback\"><pre>ExtraTreesClassifier()</pre><b>In a Jupyter environment, please rerun this cell to show the HTML representation or trust the notebook. <br />On GitHub, the HTML representation is unable to render, please try loading this page with nbviewer.org.</b></div><div class=\"sk-container\" hidden><div class=\"sk-item\"><div class=\"sk-estimator sk-toggleable\"><input class=\"sk-toggleable__control sk-hidden--visually\" id=\"sk-estimator-id-1\" type=\"checkbox\" checked><label for=\"sk-estimator-id-1\" class=\"sk-toggleable__label sk-toggleable__label-arrow\">ExtraTreesClassifier</label><div class=\"sk-toggleable__content\"><pre>ExtraTreesClassifier()</pre></div></div></div></div></div>"
      ],
      "text/plain": [
       "ExtraTreesClassifier()"
      ]
     },
     "execution_count": 27,
     "metadata": {},
     "output_type": "execute_result"
    }
   ],
   "source": [
    "model = ExtraTreesClassifier()\n",
    "model.fit(X,y)"
   ]
  },
  {
   "cell_type": "code",
   "execution_count": 28,
   "id": "77f19185",
   "metadata": {
    "execution": {
     "iopub.execute_input": "2024-03-01T17:10:17.729325Z",
     "iopub.status.busy": "2024-03-01T17:10:17.729005Z",
     "iopub.status.idle": "2024-03-01T17:10:17.749228Z",
     "shell.execute_reply": "2024-03-01T17:10:17.748126Z"
    },
    "papermill": {
     "duration": 0.034012,
     "end_time": "2024-03-01T17:10:17.750748",
     "exception": false,
     "start_time": "2024-03-01T17:10:17.716736",
     "status": "completed"
    },
    "tags": []
   },
   "outputs": [
    {
     "name": "stdout",
     "output_type": "stream",
     "text": [
      "[0.09614377 0.07251671 0.08035292 0.33377676 0.04340991 0.01691674\n",
      " 0.0812055  0.04013377 0.02847786 0.00198866 0.0481731  0.00783388\n",
      " 0.04327684 0.04143425 0.03759258 0.02676673]\n"
     ]
    }
   ],
   "source": [
    "print(model.feature_importances_)"
   ]
  },
  {
   "cell_type": "code",
   "execution_count": 29,
   "id": "194bd3da",
   "metadata": {
    "execution": {
     "iopub.execute_input": "2024-03-01T17:10:17.775221Z",
     "iopub.status.busy": "2024-03-01T17:10:17.774919Z",
     "iopub.status.idle": "2024-03-01T17:10:18.007894Z",
     "shell.execute_reply": "2024-03-01T17:10:18.006641Z"
    },
    "papermill": {
     "duration": 0.247586,
     "end_time": "2024-03-01T17:10:18.010063",
     "exception": false,
     "start_time": "2024-03-01T17:10:17.762477",
     "status": "completed"
    },
    "tags": []
   },
   "outputs": [
    {
     "data": {
      "image/png": "[encoded data removed]",
      "text/plain": [
       "<Figure size 800x550 with 1 Axes>"
      ]
     },
     "metadata": {},
     "output_type": "display_data"
    }
   ],
   "source": [
    "ranked_features = pd.Series(model.feature_importances_, index=X.columns)\n",
    "ranked_features.nlargest(10).plot(kind='barh')\n",
    "plt.show()"
   ]
  },
  {
   "cell_type": "code",
   "execution_count": 30,
   "id": "95bda3cc",
   "metadata": {
    "execution": {
     "iopub.execute_input": "2024-03-01T17:10:18.036034Z",
     "iopub.status.busy": "2024-03-01T17:10:18.035712Z",
     "iopub.status.idle": "2024-03-01T17:10:18.041421Z",
     "shell.execute_reply": "2024-03-01T17:10:18.040426Z"
    },
    "papermill": {
     "duration": 0.020776,
     "end_time": "2024-03-01T17:10:18.043340",
     "exception": false,
     "start_time": "2024-03-01T17:10:18.022564",
     "status": "completed"
    },
    "tags": []
   },
   "outputs": [],
   "source": [
    "best_features = ranked_features.nlargest(10).index"
   ]
  },
  {
   "cell_type": "code",
   "execution_count": 31,
   "id": "b3a9e4d0",
   "metadata": {
    "execution": {
     "iopub.execute_input": "2024-03-01T17:10:18.068143Z",
     "iopub.status.busy": "2024-03-01T17:10:18.067875Z",
     "iopub.status.idle": "2024-03-01T17:10:19.083020Z",
     "shell.execute_reply": "2024-03-01T17:10:19.082273Z"
    },
    "papermill": {
     "duration": 1.030231,
     "end_time": "2024-03-01T17:10:19.085422",
     "exception": false,
     "start_time": "2024-03-01T17:10:18.055191",
     "status": "completed"
    },
    "tags": []
   },
   "outputs": [
    {
     "data": {
      "text/plain": [
       "<Axes: >"
      ]
     },
     "execution_count": 31,
     "metadata": {},
     "output_type": "execute_result"
    },
    {
     "data": {
      "image/png": "[encoded data removed]",
      "text/plain": [
       "<Figure size 1500x1000 with 2 Axes>"
      ]
     },
     "metadata": {},
     "output_type": "display_data"
    }
   ],
   "source": [
    "corr = X.corr()\n",
    "top_features = corr.index\n",
    "plt.figure(figsize=(15,10))\n",
    "sns.heatmap(X[top_features].corr(), annot=True)"
   ]
  },
  {
   "cell_type": "code",
   "execution_count": 32,
   "id": "027e7ba5",
   "metadata": {
    "execution": {
     "iopub.execute_input": "2024-03-01T17:10:19.118097Z",
     "iopub.status.busy": "2024-03-01T17:10:19.117756Z",
     "iopub.status.idle": "2024-03-01T17:10:19.122853Z",
     "shell.execute_reply": "2024-03-01T17:10:19.122065Z"
    },
    "papermill": {
     "duration": 0.024348,
     "end_time": "2024-03-01T17:10:19.124572",
     "exception": false,
     "start_time": "2024-03-01T17:10:19.100224",
     "status": "completed"
    },
    "tags": []
   },
   "outputs": [],
   "source": [
    "threshold = 0.8\n",
    "def correlation(dataset, threshold):\n",
    "    col_corr = set()\n",
    "    corr_matrix = dataset.corr()\n",
    "    for i in range(len(corr_matrix.columns)):\n",
    "        for j in range(i):\n",
    "            if abs(corr_matrix.iloc[i, j]) > threshold:\n",
    "                colname = corr_matrix.columns[i]\n",
    "                col_corr.add(colname)\n",
    "    return col_corr"
   ]
  },
  {
   "cell_type": "code",
   "execution_count": 33,
   "id": "ad76262e",
   "metadata": {
    "execution": {
     "iopub.execute_input": "2024-03-01T17:10:19.156552Z",
     "iopub.status.busy": "2024-03-01T17:10:19.156027Z",
     "iopub.status.idle": "2024-03-01T17:10:19.175204Z",
     "shell.execute_reply": "2024-03-01T17:10:19.174360Z"
    },
    "papermill": {
     "duration": 0.037108,
     "end_time": "2024-03-01T17:10:19.176829",
     "exception": false,
     "start_time": "2024-03-01T17:10:19.139721",
     "status": "completed"
    },
    "tags": []
   },
   "outputs": [
    {
     "data": {
      "text/plain": [
       "set()"
      ]
     },
     "execution_count": 33,
     "metadata": {},
     "output_type": "execute_result"
    }
   ],
   "source": [
    "correlation(X, threshold)"
   ]
  },
  {
   "cell_type": "code",
   "execution_count": 34,
   "id": "57a6e48f",
   "metadata": {
    "execution": {
     "iopub.execute_input": "2024-03-01T17:10:19.208969Z",
     "iopub.status.busy": "2024-03-01T17:10:19.208464Z",
     "iopub.status.idle": "2024-03-01T17:10:19.213564Z",
     "shell.execute_reply": "2024-03-01T17:10:19.212879Z"
    },
    "papermill": {
     "duration": 0.023325,
     "end_time": "2024-03-01T17:10:19.215182",
     "exception": false,
     "start_time": "2024-03-01T17:10:19.191857",
     "status": "completed"
    },
    "tags": []
   },
   "outputs": [],
   "source": [
    "X = X[best_features]"
   ]
  },
  {
   "cell_type": "code",
   "execution_count": 35,
   "id": "0b175a63",
   "metadata": {
    "execution": {
     "iopub.execute_input": "2024-03-01T17:10:19.247209Z",
     "iopub.status.busy": "2024-03-01T17:10:19.246666Z",
     "iopub.status.idle": "2024-03-01T17:10:19.260269Z",
     "shell.execute_reply": "2024-03-01T17:10:19.259460Z"
    },
    "papermill": {
     "duration": 0.030997,
     "end_time": "2024-03-01T17:10:19.261859",
     "exception": false,
     "start_time": "2024-03-01T17:10:19.230862",
     "status": "completed"
    },
    "tags": []
   },
   "outputs": [
    {
     "data": {
      "text/html": [
       "<div>\n",
       "<style scoped>\n",
       "    .dataframe tbody tr th:only-of-type {\n",
       "        vertical-align: middle;\n",
       "    }\n",
       "\n",
       "    .dataframe tbody tr th {\n",
       "        vertical-align: top;\n",
       "    }\n",
       "\n",
       "    .dataframe thead th {\n",
       "        text-align: right;\n",
       "    }\n",
       "</style>\n",
       "<table border=\"1\" class=\"dataframe\">\n",
       "  <thead>\n",
       "    <tr style=\"text-align: right;\">\n",
       "      <th></th>\n",
       "      <th>Weight</th>\n",
       "      <th>Gender</th>\n",
       "      <th>FCVC</th>\n",
       "      <th>Height</th>\n",
       "      <th>Age</th>\n",
       "      <th>CH2O</th>\n",
       "      <th>family_history_with_overweight</th>\n",
       "      <th>FAF</th>\n",
       "      <th>TUE</th>\n",
       "      <th>NCP</th>\n",
       "    </tr>\n",
       "  </thead>\n",
       "  <tbody>\n",
       "    <tr>\n",
       "      <th>0</th>\n",
       "      <td>81.669950</td>\n",
       "      <td>1</td>\n",
       "      <td>2.000000</td>\n",
       "      <td>1.699998</td>\n",
       "      <td>24.443011</td>\n",
       "      <td>2.763573</td>\n",
       "      <td>1</td>\n",
       "      <td>0.000000</td>\n",
       "      <td>0.976473</td>\n",
       "      <td>2.983297</td>\n",
       "    </tr>\n",
       "    <tr>\n",
       "      <th>1</th>\n",
       "      <td>57.000000</td>\n",
       "      <td>0</td>\n",
       "      <td>2.000000</td>\n",
       "      <td>1.560000</td>\n",
       "      <td>18.000000</td>\n",
       "      <td>2.000000</td>\n",
       "      <td>1</td>\n",
       "      <td>1.000000</td>\n",
       "      <td>1.000000</td>\n",
       "      <td>3.000000</td>\n",
       "    </tr>\n",
       "    <tr>\n",
       "      <th>2</th>\n",
       "      <td>50.165754</td>\n",
       "      <td>0</td>\n",
       "      <td>1.880534</td>\n",
       "      <td>1.711460</td>\n",
       "      <td>18.000000</td>\n",
       "      <td>1.910378</td>\n",
       "      <td>1</td>\n",
       "      <td>0.866045</td>\n",
       "      <td>1.673584</td>\n",
       "      <td>1.411685</td>\n",
       "    </tr>\n",
       "    <tr>\n",
       "      <th>3</th>\n",
       "      <td>131.274851</td>\n",
       "      <td>0</td>\n",
       "      <td>3.000000</td>\n",
       "      <td>1.710730</td>\n",
       "      <td>20.952737</td>\n",
       "      <td>1.674061</td>\n",
       "      <td>1</td>\n",
       "      <td>1.467863</td>\n",
       "      <td>0.780199</td>\n",
       "      <td>3.000000</td>\n",
       "    </tr>\n",
       "    <tr>\n",
       "      <th>4</th>\n",
       "      <td>93.798055</td>\n",
       "      <td>1</td>\n",
       "      <td>2.679664</td>\n",
       "      <td>1.914186</td>\n",
       "      <td>31.641081</td>\n",
       "      <td>1.979848</td>\n",
       "      <td>1</td>\n",
       "      <td>1.967973</td>\n",
       "      <td>0.931721</td>\n",
       "      <td>1.971472</td>\n",
       "    </tr>\n",
       "    <tr>\n",
       "      <th>...</th>\n",
       "      <td>...</td>\n",
       "      <td>...</td>\n",
       "      <td>...</td>\n",
       "      <td>...</td>\n",
       "      <td>...</td>\n",
       "      <td>...</td>\n",
       "      <td>...</td>\n",
       "      <td>...</td>\n",
       "      <td>...</td>\n",
       "      <td>...</td>\n",
       "    </tr>\n",
       "    <tr>\n",
       "      <th>20753</th>\n",
       "      <td>114.187096</td>\n",
       "      <td>1</td>\n",
       "      <td>2.919584</td>\n",
       "      <td>1.766626</td>\n",
       "      <td>25.137087</td>\n",
       "      <td>2.151809</td>\n",
       "      <td>1</td>\n",
       "      <td>1.330519</td>\n",
       "      <td>0.196680</td>\n",
       "      <td>3.000000</td>\n",
       "    </tr>\n",
       "    <tr>\n",
       "      <th>20754</th>\n",
       "      <td>50.000000</td>\n",
       "      <td>1</td>\n",
       "      <td>3.000000</td>\n",
       "      <td>1.710000</td>\n",
       "      <td>18.000000</td>\n",
       "      <td>1.000000</td>\n",
       "      <td>0</td>\n",
       "      <td>2.000000</td>\n",
       "      <td>1.000000</td>\n",
       "      <td>4.000000</td>\n",
       "    </tr>\n",
       "    <tr>\n",
       "      <th>20755</th>\n",
       "      <td>105.580491</td>\n",
       "      <td>1</td>\n",
       "      <td>2.407817</td>\n",
       "      <td>1.819557</td>\n",
       "      <td>20.101026</td>\n",
       "      <td>2.000000</td>\n",
       "      <td>1</td>\n",
       "      <td>1.158040</td>\n",
       "      <td>1.198439</td>\n",
       "      <td>3.000000</td>\n",
       "    </tr>\n",
       "    <tr>\n",
       "      <th>20756</th>\n",
       "      <td>83.520113</td>\n",
       "      <td>1</td>\n",
       "      <td>2.671238</td>\n",
       "      <td>1.700000</td>\n",
       "      <td>33.852953</td>\n",
       "      <td>2.144838</td>\n",
       "      <td>1</td>\n",
       "      <td>0.000000</td>\n",
       "      <td>0.973834</td>\n",
       "      <td>1.971472</td>\n",
       "    </tr>\n",
       "    <tr>\n",
       "      <th>20757</th>\n",
       "      <td>118.134898</td>\n",
       "      <td>1</td>\n",
       "      <td>3.000000</td>\n",
       "      <td>1.816547</td>\n",
       "      <td>26.680376</td>\n",
       "      <td>2.003563</td>\n",
       "      <td>1</td>\n",
       "      <td>0.684487</td>\n",
       "      <td>0.713823</td>\n",
       "      <td>3.000000</td>\n",
       "    </tr>\n",
       "  </tbody>\n",
       "</table>\n",
       "<p>20758 rows × 10 columns</p>\n",
       "</div>"
      ],
      "text/plain": [
       "           Weight  Gender      FCVC    Height        Age      CH2O  \\\n",
       "0       81.669950       1  2.000000  1.699998  24.443011  2.763573   \n",
       "1       57.000000       0  2.000000  1.560000  18.000000  2.000000   \n",
       "2       50.165754       0  1.880534  1.711460  18.000000  1.910378   \n",
       "3      131.274851       0  3.000000  1.710730  20.952737  1.674061   \n",
       "4       93.798055       1  2.679664  1.914186  31.641081  1.979848   \n",
       "...           ...     ...       ...       ...        ...       ...   \n",
       "20753  114.187096       1  2.919584  1.766626  25.137087  2.151809   \n",
       "20754   50.000000       1  3.000000  1.710000  18.000000  1.000000   \n",
       "20755  105.580491       1  2.407817  1.819557  20.101026  2.000000   \n",
       "20756   83.520113       1  2.671238  1.700000  33.852953  2.144838   \n",
       "20757  118.134898       1  3.000000  1.816547  26.680376  2.003563   \n",
       "\n",
       "       family_history_with_overweight       FAF       TUE       NCP  \n",
       "0                                   1  0.000000  0.976473  2.983297  \n",
       "1                                   1  1.000000  1.000000  3.000000  \n",
       "2                                   1  0.866045  1.673584  1.411685  \n",
       "3                                   1  1.467863  0.780199  3.000000  \n",
       "4                                   1  1.967973  0.931721  1.971472  \n",
       "...                               ...       ...       ...       ...  \n",
       "20753                               1  1.330519  0.196680  3.000000  \n",
       "20754                               0  2.000000  1.000000  4.000000  \n",
       "20755                               1  1.158040  1.198439  3.000000  \n",
       "20756                               1  0.000000  0.973834  1.971472  \n",
       "20757                               1  0.684487  0.713823  3.000000  \n",
       "\n",
       "[20758 rows x 10 columns]"
      ]
     },
     "execution_count": 35,
     "metadata": {},
     "output_type": "execute_result"
    }
   ],
   "source": [
    "X"
   ]
  },
  {
   "cell_type": "code",
   "execution_count": 36,
   "id": "1e4a0156",
   "metadata": {
    "execution": {
     "iopub.execute_input": "2024-03-01T17:10:19.293020Z",
     "iopub.status.busy": "2024-03-01T17:10:19.292479Z",
     "iopub.status.idle": "2024-03-01T17:10:19.296809Z",
     "shell.execute_reply": "2024-03-01T17:10:19.296224Z"
    },
    "papermill": {
     "duration": 0.021755,
     "end_time": "2024-03-01T17:10:19.298357",
     "exception": false,
     "start_time": "2024-03-01T17:10:19.276602",
     "status": "completed"
    },
    "tags": []
   },
   "outputs": [],
   "source": [
    "df_test = df_test[best_features]"
   ]
  },
  {
   "cell_type": "code",
   "execution_count": 37,
   "id": "783e8c41",
   "metadata": {
    "execution": {
     "iopub.execute_input": "2024-03-01T17:10:19.328818Z",
     "iopub.status.busy": "2024-03-01T17:10:19.328281Z",
     "iopub.status.idle": "2024-03-01T17:10:19.331735Z",
     "shell.execute_reply": "2024-03-01T17:10:19.331202Z"
    },
    "papermill": {
     "duration": 0.020453,
     "end_time": "2024-03-01T17:10:19.333280",
     "exception": false,
     "start_time": "2024-03-01T17:10:19.312827",
     "status": "completed"
    },
    "tags": []
   },
   "outputs": [],
   "source": [
    "scaler = StandardScaler()"
   ]
  },
  {
   "cell_type": "code",
   "execution_count": 38,
   "id": "04baa60d",
   "metadata": {
    "execution": {
     "iopub.execute_input": "2024-03-01T17:10:19.363936Z",
     "iopub.status.busy": "2024-03-01T17:10:19.363431Z",
     "iopub.status.idle": "2024-03-01T17:10:19.370896Z",
     "shell.execute_reply": "2024-03-01T17:10:19.370326Z"
    },
    "papermill": {
     "duration": 0.024728,
     "end_time": "2024-03-01T17:10:19.372472",
     "exception": false,
     "start_time": "2024-03-01T17:10:19.347744",
     "status": "completed"
    },
    "tags": []
   },
   "outputs": [],
   "source": [
    "X_scaled = scaler.fit_transform(X)"
   ]
  },
  {
   "cell_type": "code",
   "execution_count": 39,
   "id": "2cfcb4ee",
   "metadata": {
    "execution": {
     "iopub.execute_input": "2024-03-01T17:10:19.403164Z",
     "iopub.status.busy": "2024-03-01T17:10:19.402642Z",
     "iopub.status.idle": "2024-03-01T17:10:19.407227Z",
     "shell.execute_reply": "2024-03-01T17:10:19.406615Z"
    },
    "papermill": {
     "duration": 0.02211,
     "end_time": "2024-03-01T17:10:19.409205",
     "exception": false,
     "start_time": "2024-03-01T17:10:19.387095",
     "status": "completed"
    },
    "tags": []
   },
   "outputs": [
    {
     "name": "stdout",
     "output_type": "stream",
     "text": [
      "[[-0.23571264  1.0041516  -0.83627898 ... -1.17114146  0.59743795\n",
      "   0.31468392]\n",
      " [-1.17093118 -0.99586557 -0.83627898 ...  0.02177483  0.63651292\n",
      "   0.3383641 ]\n",
      " [-1.43001211 -0.99586557 -1.06033151 ... -0.13802227  1.75523929\n",
      "  -1.91342278]\n",
      " ...\n",
      " [ 0.6707173   1.0041516  -0.07143851 ...  0.21030332  0.96609163\n",
      "   0.3383641 ]\n",
      " [-0.16557441  1.0041516   0.42259445 ... -1.17114146  0.59305495\n",
      "  -1.11980122]\n",
      " [ 1.14664506  1.0041516   1.03917121 ... -0.35460577  0.16121399\n",
      "   0.3383641 ]]\n"
     ]
    }
   ],
   "source": [
    "print(X_scaled)"
   ]
  },
  {
   "cell_type": "code",
   "execution_count": 40,
   "id": "4fd18ef3",
   "metadata": {
    "execution": {
     "iopub.execute_input": "2024-03-01T17:10:19.439621Z",
     "iopub.status.busy": "2024-03-01T17:10:19.439369Z",
     "iopub.status.idle": "2024-03-01T17:10:19.447231Z",
     "shell.execute_reply": "2024-03-01T17:10:19.446208Z"
    },
    "papermill": {
     "duration": 0.02481,
     "end_time": "2024-03-01T17:10:19.448891",
     "exception": false,
     "start_time": "2024-03-01T17:10:19.424081",
     "status": "completed"
    },
    "tags": []
   },
   "outputs": [],
   "source": [
    "df_test_scaled = scaler.fit_transform(df_test)"
   ]
  },
  {
   "cell_type": "code",
   "execution_count": 41,
   "id": "78b28c43",
   "metadata": {
    "execution": {
     "iopub.execute_input": "2024-03-01T17:10:19.480414Z",
     "iopub.status.busy": "2024-03-01T17:10:19.480112Z",
     "iopub.status.idle": "2024-03-01T17:10:19.487443Z",
     "shell.execute_reply": "2024-03-01T17:10:19.486759Z"
    },
    "papermill": {
     "duration": 0.024967,
     "end_time": "2024-03-01T17:10:19.489083",
     "exception": false,
     "start_time": "2024-03-01T17:10:19.464116",
     "status": "completed"
    },
    "tags": []
   },
   "outputs": [],
   "source": [
    "X_train, X_test, y_train, y_test = train_test_split(X_scaled, y, test_size=0.3, random_state=42)"
   ]
  },
  {
   "cell_type": "code",
   "execution_count": 42,
   "id": "5ba639e0",
   "metadata": {
    "execution": {
     "iopub.execute_input": "2024-03-01T17:10:19.519646Z",
     "iopub.status.busy": "2024-03-01T17:10:19.519386Z",
     "iopub.status.idle": "2024-03-01T17:10:19.524529Z",
     "shell.execute_reply": "2024-03-01T17:10:19.523800Z"
    },
    "papermill": {
     "duration": 0.02229,
     "end_time": "2024-03-01T17:10:19.526265",
     "exception": false,
     "start_time": "2024-03-01T17:10:19.503975",
     "status": "completed"
    },
    "tags": []
   },
   "outputs": [
    {
     "data": {
      "text/plain": [
       "array([[ 1.21734962,  1.0041516 , -0.83627898, ..., -1.17114146,\n",
       "         2.29736943,  0.3383641 ],\n",
       "       [ 1.74628464, -0.99586557,  1.03917121, ...,  0.80371715,\n",
       "         0.33255293,  0.3383641 ],\n",
       "       [ 0.07983847,  1.0041516 ,  0.89143262, ...,  1.41089246,\n",
       "        -1.02434359,  0.31454781],\n",
       "       ...,\n",
       "       [-0.75392977,  1.0041516 , -0.83627898, ...,  1.21469113,\n",
       "        -1.02434359,  0.3383641 ],\n",
       "       [ 0.91178885, -0.99586557,  1.03917121, ..., -1.17114146,\n",
       "        -0.63021071,  0.3383641 ],\n",
       "       [ 0.76239407,  1.0041516 ,  0.97244082, ...,  1.8656739 ,\n",
       "        -1.02434359,  0.20051346]])"
      ]
     },
     "execution_count": 42,
     "metadata": {},
     "output_type": "execute_result"
    }
   ],
   "source": [
    "X_train"
   ]
  },
  {
   "cell_type": "code",
   "execution_count": 43,
   "id": "eef484a3",
   "metadata": {
    "execution": {
     "iopub.execute_input": "2024-03-01T17:10:19.557418Z",
     "iopub.status.busy": "2024-03-01T17:10:19.557111Z",
     "iopub.status.idle": "2024-03-01T17:10:21.555139Z",
     "shell.execute_reply": "2024-03-01T17:10:21.554316Z"
    },
    "papermill": {
     "duration": 2.015225,
     "end_time": "2024-03-01T17:10:21.556607",
     "exception": false,
     "start_time": "2024-03-01T17:10:19.541382",
     "status": "completed"
    },
    "tags": []
   },
   "outputs": [
    {
     "name": "stdout",
     "output_type": "stream",
     "text": [
      "Accuracy:0.8959537572254336\n"
     ]
    }
   ],
   "source": [
    "rf=RandomForestClassifier(max_depth=20, min_samples_leaf=4, min_samples_split=2, n_estimators=100)\n",
    "#rf_parameters = {\n",
    "   # 'n_estimators': [50, 100, 150],\n",
    "   # 'max_depth': [None, 10, 20, 30],\n",
    "   # 'min_samples_split': [2, 5, 10],\n",
    "   # 'min_samples_leaf': [1, 2, 4]\n",
    "#}\n",
    "#rf_grid_search = GridSearchCV(rf, rf_parameters, cv=5, n_jobs=-1,verbose=1, scoring='accuracy')\n",
    "#rf_grid_search.fit(X_train, y_train)\n",
    "#print ('Best score: %0.3f' % rf_grid_search.best_score_)\n",
    "#print ('Best parameters set:')\n",
    "#rf_best_parameters = rf_grid_search.best_estimator_.get_params()\n",
    "#for param_name in sorted(rf_parameters.keys()):\n",
    "   # print ('\\t%s: %r' % (param_name, rf_best_parameters[param_name]))\n",
    "#best_rf = rf_grid_search.best_estimator_\n",
    "rf.fit(X_train, y_train)\n",
    "#rf.fit(X_train, y_train)\n",
    "y_pred_rf = rf.predict(X_test)\n",
    "#y_pred_rf = rf.predict(X_test)\n",
    "print(f\"Accuracy:{accuracy_score(y_test, y_pred_rf)}\")\n"
   ]
  },
  {
   "cell_type": "code",
   "execution_count": 44,
   "id": "724b62e6",
   "metadata": {
    "execution": {
     "iopub.execute_input": "2024-03-01T17:10:21.588799Z",
     "iopub.status.busy": "2024-03-01T17:10:21.587910Z",
     "iopub.status.idle": "2024-03-01T17:10:21.691881Z",
     "shell.execute_reply": "2024-03-01T17:10:21.690931Z"
    },
    "papermill": {
     "duration": 0.121656,
     "end_time": "2024-03-01T17:10:21.693442",
     "exception": false,
     "start_time": "2024-03-01T17:10:21.571786",
     "status": "completed"
    },
    "tags": []
   },
   "outputs": [
    {
     "name": "stdout",
     "output_type": "stream",
     "text": [
      "Accuracy:0.850674373795761\n"
     ]
    }
   ],
   "source": [
    "dt = DecisionTreeClassifier(max_depth=150, min_samples_leaf=3, min_samples_split=2, criterion='entropy')\n",
    "#dt_parameters = {\n",
    "   # 'max_depth': (150, 155, 160),\n",
    "   # 'min_samples_split': ( 2, 3),\n",
    "    #'min_samples_leaf': (1, 2, 3),\n",
    "    #'criterion' :['gini', 'entropy']}\n",
    "#dt_grid_search = GridSearchCV(dt, dt_parameters, cv=5, n_jobs=-1,verbose=1, scoring='accuracy')\n",
    "#dt_grid_search.fit(X_train, y_train)\n",
    "#print ('Best score: %0.3f' % dt_grid_search.best_score_)\n",
    "#print ('Best parameters set:')\n",
    "#dt_best_parameters = dt_grid_search.best_estimator_.get_params()\n",
    "#for param_name in sorted(dt_parameters.keys()):\n",
    "    #print ('\\t%s: %r' % (param_name, dt_best_parameters[param_name]))\n",
    "#best_dt = dt_grid_search.best_estimator_\n",
    "dt.fit(X_train, y_train)\n",
    "y_pred_dt = dt.predict(X_test)\n",
    "print(f\"Accuracy:{accuracy_score(y_test, y_pred_dt)}\")"
   ]
  },
  {
   "cell_type": "code",
   "execution_count": 45,
   "id": "6fd2ab9a",
   "metadata": {
    "execution": {
     "iopub.execute_input": "2024-03-01T17:10:21.725574Z",
     "iopub.status.busy": "2024-03-01T17:10:21.725275Z",
     "iopub.status.idle": "2024-03-01T17:10:51.845280Z",
     "shell.execute_reply": "2024-03-01T17:10:51.844483Z"
    },
    "papermill": {
     "duration": 30.153078,
     "end_time": "2024-03-01T17:10:51.862111",
     "exception": false,
     "start_time": "2024-03-01T17:10:21.709033",
     "status": "completed"
    },
    "tags": []
   },
   "outputs": [
    {
     "name": "stdout",
     "output_type": "stream",
     "text": [
      "Accuracy:0.8941875401412974\n"
     ]
    }
   ],
   "source": [
    "gradient = GradientBoostingClassifier(learning_rate=0.1, max_depth=4, n_estimators=150)\n",
    "#gradient_parameters = {\n",
    "    #'learning_rate': [0.1, 0.05],\n",
    "    #'n_estimators': [50, 100, 150],\n",
    "    #'max_depth': [3, 4, 5] }\n",
    "#gradient_grid_search = GridSearchCV(gradient, gradient_parameters, cv=5, n_jobs=-1,verbose=1, scoring='accuracy')\n",
    "#gradient_grid_search.fit(X_train, y_train)\n",
    "#print ('Best score: %0.3f' % gradient_grid_search.best_score_)\n",
    "#print ('Best parameters set:')\n",
    "#best_parameters = gradient_grid_search.best_estimator_.get_params()\n",
    "#for param_name in sorted(gradient_parameters.keys()):\n",
    "   # print ('\\t%s: %r' % (param_name, best_parameters[param_name]))\n",
    "#best_gradient = gradient_grid_search.best_estimator_\n",
    "gradient.fit(X_train, y_train)\n",
    "y_pred_gradient = gradient.predict(X_test)\n",
    "print(f\"Accuracy:{accuracy_score(y_test, y_pred_gradient)}\")\n"
   ]
  },
  {
   "cell_type": "code",
   "execution_count": 46,
   "id": "c16de1a5",
   "metadata": {
    "execution": {
     "iopub.execute_input": "2024-03-01T17:10:51.894576Z",
     "iopub.status.busy": "2024-03-01T17:10:51.894200Z",
     "iopub.status.idle": "2024-03-01T17:11:05.992448Z",
     "shell.execute_reply": "2024-03-01T17:11:05.991592Z"
    },
    "papermill": {
     "duration": 14.117,
     "end_time": "2024-03-01T17:11:05.994544",
     "exception": false,
     "start_time": "2024-03-01T17:10:51.877544",
     "status": "completed"
    },
    "tags": []
   },
   "outputs": [
    {
     "data": {
      "text/plain": [
       "0.8924213230571612"
      ]
     },
     "execution_count": 46,
     "metadata": {},
     "output_type": "execute_result"
    }
   ],
   "source": [
    "best_params = {\n",
    "    \"objective\": \"multiclass\",          # Objective function for the model\n",
    "    \"metric\": \"multi_logloss\",          # Evaluation metric\n",
    "    \"verbosity\": -1,                    # Verbosity level (-1 for silent)\n",
    "    \"boosting_type\": \"gbdt\",            # Gradient boosting type\n",
    "    \"random_state\": 42,       # Random state for reproducibility\n",
    "    \"num_class\": 7,                     # Number of classes in the dataset\n",
    "    'learning_rate': 0.030962211546832760,  # Learning rate for gradient boosting\n",
    "    'n_estimators': 500,                # Number of boosting iterations\n",
    "    'lambda_l1': 0.009667446568254372,  # L1 regularization term\n",
    "    'lambda_l2': 0.04018641437301800,   # L2 regularization term\n",
    "    'max_depth': 10,                    # Maximum depth of the trees\n",
    "    'colsample_bytree': 0.40977129346872643,  # Fraction of features to consider for each tree\n",
    "    'subsample': 0.9535797422450176,    # Fraction of samples to consider for each boosting iteration\n",
    "    'min_child_samples': 26             # Minimum number of data needed in a leaf\n",
    "}\n",
    "lgbm_classifier = LGBMClassifier(**best_params)\n",
    "\n",
    "lgbm_classifier.fit(X_train, y_train)\n",
    "\n",
    "y_pred = lgbm_classifier.predict(X_test)\n",
    "accuracy_score(y_test, y_pred) "
   ]
  },
  {
   "cell_type": "code",
   "execution_count": 47,
   "id": "0b38ef6a",
   "metadata": {
    "execution": {
     "iopub.execute_input": "2024-03-01T17:11:06.026294Z",
     "iopub.status.busy": "2024-03-01T17:11:06.025961Z",
     "iopub.status.idle": "2024-03-01T17:11:10.593310Z",
     "shell.execute_reply": "2024-03-01T17:11:10.592680Z"
    },
    "papermill": {
     "duration": 4.585345,
     "end_time": "2024-03-01T17:11:10.595241",
     "exception": false,
     "start_time": "2024-03-01T17:11:06.009896",
     "status": "completed"
    },
    "tags": []
   },
   "outputs": [],
   "source": [
    "predictions_rf = rf.predict(df_test_scaled)\n",
    "predictions_dt = dt.predict(df_test_scaled)\n",
    "predictions_lgbm = lgbm_classifier.predict(df_test_scaled)\n",
    "predictions_gradient = gradient.predict(df_test_scaled)\n",
    "submission = pd.read_csv(\"/kaggle/input/playground-series-s4e2/sample_submission.csv\")\n",
    "predictions = [predictions_rf, predictions_dt, predictions_lgbm, predictions_gradient]\n",
    "model_names = ['rf', 'dt', 'lgbm', 'gradient']\n",
    "for pred, model_name in zip(predictions, model_names):\n",
    "    submission[\"NObeyesdad\"] = pred\n",
    "    submission.to_csv(f'{model_name}_predictions.csv', index=False)\n",
    "#submission.head()"
   ]
  },
  {
   "cell_type": "code",
   "execution_count": null,
   "id": "331abce8",
   "metadata": {
    "papermill": {
     "duration": 0.01504,
     "end_time": "2024-03-01T17:11:10.626386",
     "exception": false,
     "start_time": "2024-03-01T17:11:10.611346",
     "status": "completed"
    },
    "tags": []
   },
   "outputs": [],
   "source": []
  }
 ],
 "metadata": {
  "kaggle": {
   "accelerator": "none",
   "dataSources": [
    {
     "databundleVersionId": 7609535,
     "sourceId": 68479,
     "sourceType": "competition"
    }
   ],
   "dockerImageVersionId": 30646,
   "isGpuEnabled": false,
   "isInternetEnabled": true,
   "language": "python",
   "sourceType": "notebook"
  },
  "kernelspec": {
   "display_name": "Python 3",
   "language": "python",
   "name": "python3"
  },
  "language_info": {
   "codemirror_mode": {
    "name": "ipython",
    "version": 3
   },
   "file_extension": ".py",
   "mimetype": "text/x-python",
   "name": "python",
   "nbconvert_exporter": "python",
   "pygments_lexer": "ipython3",
   "version": "3.10.13"
  },
  "papermill": {
   "default_parameters": {},
   "duration": 62.474347,
   "end_time": "2024-03-01T17:11:11.261385",
   "environment_variables": {},
   "exception": null,
   "input_path": "__notebook__.ipynb",
   "output_path": "__notebook__.ipynb",
   "parameters": {},
   "start_time": "2024-03-01T17:10:08.787038",
   "version": "2.5.0"
  }
 },
 "nbformat": 4,
 "nbformat_minor": 5
}
